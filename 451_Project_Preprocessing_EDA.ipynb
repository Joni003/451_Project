{
 "cells": [
  {
   "cell_type": "code",
   "execution_count": 1,
   "id": "33b008fc-2298-448c-8c5e-e557d9f1073f",
   "metadata": {},
   "outputs": [],
   "source": [
    "import pandas as pd\n",
    "import numpy as np"
   ]
  },
  {
   "cell_type": "code",
   "execution_count": 33,
   "id": "37daece6-49d7-4380-9bb7-d2dc8076b121",
   "metadata": {},
   "outputs": [
    {
     "name": "stdout",
     "output_type": "stream",
     "text": [
      "There are 538 observations made on 25 features considered in this dataset.  \n",
      " Those features are:  \n",
      "\n",
      "player_id\n",
      "year\n",
      "pa\n",
      "hit\n",
      "single\n",
      "double\n",
      "triple\n",
      "home_run\n",
      "k_percent\n",
      "bb_percent\n",
      "on_base_plus_slg\n",
      "exit_velocity_avg\n",
      "sweet_spot_percent\n",
      "barrel_batted_rate\n",
      "solidcontact_percent\n",
      "hard_hit_percent\n",
      "avg_best_speed\n",
      "avg_hyper_speed\n",
      "whiff_percent\n",
      "swing_percent\n",
      "groundballs_percent\n",
      "flyballs_percent\n",
      "full_name\n",
      "last_name\n",
      "first_name\n",
      "\n",
      " Feature of interest: on_base_plus_slg\n"
     ]
    }
   ],
   "source": [
    "df = pd.read_csv('stats.csv')\n",
    "df.head(n=10)\n",
    "#split the last_name,first_name column to be two sepearate columns 1 for first name, 1 for last name by first creating a full_name column then splitting\n",
    "df[['full_name']]= df[['last_name, first_name']]\n",
    "df[['last_name','first_name']]=df.full_name.str.split(', ',expand=True)\n",
    "\n",
    "#drop the original last_name,first_name columns \n",
    "df.drop('last_name, first_name',axis = 1,inplace=True)\n",
    "\n",
    "print(f'There are {len(df)} observations made on {len(df.columns)} features considered in this dataset. ' +\n",
    "      f' \\n ' +\n",
    "      f'Those features are: ' +\n",
    "      f' \\n')\n",
    "    \n",
    "for column in df.columns:\n",
    "    print(column)\n",
    "\n",
    "print(f'\\n Feature of interest: on_base_plus_slg')"
   ]
  },
  {
   "cell_type": "code",
   "execution_count": 34,
   "id": "dba2d6d9-4a60-4a71-9259-00f3953dabf7",
   "metadata": {},
   "outputs": [
    {
     "name": "stdout",
     "output_type": "stream",
     "text": [
      "\n",
      " Checking for missing (Na) values: \n",
      " \n",
      "player_id               0\n",
      "year                    0\n",
      "pa                      0\n",
      "hit                     0\n",
      "single                  0\n",
      "double                  0\n",
      "triple                  0\n",
      "home_run                0\n",
      "k_percent               0\n",
      "bb_percent              0\n",
      "on_base_plus_slg        0\n",
      "exit_velocity_avg       0\n",
      "sweet_spot_percent      0\n",
      "barrel_batted_rate      0\n",
      "solidcontact_percent    0\n",
      "hard_hit_percent        0\n",
      "avg_best_speed          0\n",
      "avg_hyper_speed         0\n",
      "whiff_percent           0\n",
      "swing_percent           0\n",
      "groundballs_percent     0\n",
      "flyballs_percent        0\n",
      "full_name               0\n",
      "last_name               0\n",
      "first_name              0\n",
      "dtype: int64\n",
      "\n",
      " Checking for duplicated values: \n",
      " \n",
      "0\n"
     ]
    }
   ],
   "source": [
    "print(f'\\n Checking for missing (Na) values: \\n ')\n",
    "print(f'{df.isna().sum()}')\n",
    "print(f'\\n Checking for duplicated values: \\n ')\n",
    "print(f'{df.duplicated().sum()}')"
   ]
  },
  {
   "cell_type": "code",
   "execution_count": null,
   "id": "571e4777-c38b-4041-b431-47098ff923ec",
   "metadata": {},
   "outputs": [],
   "source": []
  }
 ],
 "metadata": {
  "kernelspec": {
   "display_name": "Python 3 (ipykernel)",
   "language": "python",
   "name": "python3"
  },
  "language_info": {
   "codemirror_mode": {
    "name": "ipython",
    "version": 3
   },
   "file_extension": ".py",
   "mimetype": "text/x-python",
   "name": "python",
   "nbconvert_exporter": "python",
   "pygments_lexer": "ipython3",
   "version": "3.11.5"
  }
 },
 "nbformat": 4,
 "nbformat_minor": 5
}
