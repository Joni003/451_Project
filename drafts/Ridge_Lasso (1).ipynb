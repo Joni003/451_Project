{
 "cells": [
  {
   "cell_type": "code",
   "execution_count": 15,
   "id": "33b008fc-2298-448c-8c5e-e557d9f1073f",
   "metadata": {},
   "outputs": [],
   "source": [
    "import pandas as pd\n",
    "import numpy as np\n",
    "from sklearn.preprocessing import StandardScaler\n",
    "from sklearn.linear_model import RidgeCV, Ridge, LinearRegression, LassoCV, Lasso, LogisticRegression, ElasticNet\n",
    "from sklearn.preprocessing import StandardScaler\n",
    "from sklearn.ensemble import GradientBoostingRegressor\n",
    "from sklearn.tree import DecisionTreeRegressor\n",
    "from sklearn.metrics import accuracy_score\n",
    "from sklearn.neighbors import KNeighborsRegressor\n",
    "from sklearn.model_selection import GridSearchCV, train_test_split\n",
    "from sklearn import svm\n",
    "from sklearn.metrics import make_scorer, mean_squared_error, mean_absolute_error\n",
    "from sklearn.svm import SVR\n",
    "from sklearn.model_selection import cross_val_score\n",
    "import matplotlib.pyplot as plt\n",
    "from sklearn.model_selection import KFold \n"
   ]
  },
  {
   "cell_type": "code",
   "execution_count": 2,
   "id": "37daece6-49d7-4380-9bb7-d2dc8076b121",
   "metadata": {
    "scrolled": true
   },
   "outputs": [
    {
     "name": "stdout",
     "output_type": "stream",
     "text": [
      "There are 538 observations made on 25 features considered in this dataset.  \n",
      " Those features are:  \n",
      "\n",
      "player_id\n",
      "year\n",
      "pa\n",
      "hit\n",
      "single\n",
      "double\n",
      "triple\n",
      "home_run\n",
      "k_percent\n",
      "bb_percent\n",
      "on_base_plus_slg\n",
      "exit_velocity_avg\n",
      "sweet_spot_percent\n",
      "barrel_batted_rate\n",
      "solidcontact_percent\n",
      "hard_hit_percent\n",
      "avg_best_speed\n",
      "avg_hyper_speed\n",
      "whiff_percent\n",
      "swing_percent\n",
      "groundballs_percent\n",
      "flyballs_percent\n",
      "full_name\n",
      "last_name\n",
      "first_name\n",
      "\n",
      " Feature of interest: on_base_plus_slg\n"
     ]
    }
   ],
   "source": [
    "df = pd.read_csv('stats.csv')\n",
    "df.head(n=10)\n",
    "#split the last_name,first_name column to be two sepearate columns 1 for first name, 1 for last name by first creating a full_name column then splitting\n",
    "df[['full_name']]= df[['last_name, first_name']]\n",
    "df[['last_name','first_name']]=df.full_name.str.split(', ',expand=True)\n",
    "\n",
    "#drop the original last_name,first_name columns \n",
    "df.drop('last_name, first_name',axis = 1,inplace=True)\n",
    "\n",
    "print(f'There are {len(df)} observations made on {len(df.columns)} features considered in this dataset. ' +\n",
    "      f' \\n ' +\n",
    "      f'Those features are: ' +\n",
    "      f' \\n')\n",
    "    \n",
    "for column in df.columns:\n",
    "    print(column)\n",
    "\n",
    "print(f'\\n Feature of interest: on_base_plus_slg')"
   ]
  },
  {
   "cell_type": "code",
   "execution_count": 3,
   "id": "25de8268",
   "metadata": {},
   "outputs": [],
   "source": [
    "df.drop('last_name',axis=1,inplace=True)\n",
    "df.drop('full_name',axis=1,inplace=True)\n",
    "df.drop('first_name',axis=1,inplace=True)\n",
    "df.drop(\"player_id\", axis=1, inplace=True)"
   ]
  },
  {
   "cell_type": "code",
   "execution_count": 4,
   "id": "dba2d6d9-4a60-4a71-9259-00f3953dabf7",
   "metadata": {},
   "outputs": [
    {
     "name": "stdout",
     "output_type": "stream",
     "text": [
      "\n",
      " Checking for missing (Na) values: \n",
      " \n",
      "year                    0\n",
      "pa                      0\n",
      "hit                     0\n",
      "single                  0\n",
      "double                  0\n",
      "triple                  0\n",
      "home_run                0\n",
      "k_percent               0\n",
      "bb_percent              0\n",
      "on_base_plus_slg        0\n",
      "exit_velocity_avg       0\n",
      "sweet_spot_percent      0\n",
      "barrel_batted_rate      0\n",
      "solidcontact_percent    0\n",
      "hard_hit_percent        0\n",
      "avg_best_speed          0\n",
      "avg_hyper_speed         0\n",
      "whiff_percent           0\n",
      "swing_percent           0\n",
      "groundballs_percent     0\n",
      "flyballs_percent        0\n",
      "dtype: int64\n",
      "\n",
      " Checking for duplicated values: \n",
      " \n",
      "0\n"
     ]
    }
   ],
   "source": [
    "print(f'\\n Checking for missing (Na) values: \\n ')\n",
    "print(f'{df.isna().sum()}')\n",
    "print(f'\\n Checking for duplicated values: \\n ')\n",
    "print(f'{df.duplicated().sum()}')"
   ]
  },
  {
   "cell_type": "code",
   "execution_count": 27,
   "id": "6dfb3432",
   "metadata": {},
   "outputs": [],
   "source": [
    "# train_df = df[(df['year'] == 2021) | (df['year'] == 2020)]\n",
    "# val_df = df[df.year==2022]\n",
    "# test_df = df[df.year==2023]\n",
    "\n",
    "\n",
    "# model = LinearRegression()\n",
    "\n",
    "# scaler = StandardScaler()\n",
    "\n",
    "# features = ['k_percent','exit_velocity_avg','sweet_spot_percent', 'barrel_batted_rate','solidcontact_percent', 'hard_hit_percent', \n",
    "#           'avg_best_speed','avg_hyper_speed',\n",
    "#           'whiff_percent', 'swing_percent',\n",
    "#           'groundballs_percent', 'flyballs_percent']\n",
    "\n",
    "# # Train data\n",
    "# X_train = train_df.loc[:, train_df.columns!=\"on_base_plus_slg\"]\n",
    "# y_train = train_df[\"on_base_plus_slg\"]\n",
    "# X_train_scaled = scaler.fit_transform(X_train)  # Scale training data\n",
    "\n",
    "# model.fit(X_train_scaled, y_train)\n",
    "\n",
    "# # Validation\n",
    "# X_val = val_df.loc[:, val_df.columns!=\"on_base_plus_slg\"]\n",
    "# y_val = val_df[\"on_base_plus_slg\"]\n",
    "# X_val_scaled = scaler.transform(X_val)  # Scale validation data\n",
    "\n",
    "# validation_score = model.score(X_val_scaled, y_val)\n",
    "# print(f\"The validation score is {validation_score:.3}\")\n",
    "\n",
    "# # Testing\n",
    "# X_test = test_df.loc[:, test_df.columns!=\"on_base_plus_slg\"]\n",
    "# y_test = test_df[\"on_base_plus_slg\"]\n",
    "# X_test_scaled = scaler.transform(X_test)  # Scale testing data\n",
    "\n",
    "# # test_score = model.score(X_test_scaled, y_test)\n",
    "# # print(f\"The test score is {test_score:.3}\")\n",
    "\n",
    "\n",
    "# train_predictions = model.predict(X_train_scaled)\n",
    "# MAE_train = mean_absolute_error(y_train, train_predictions)\n",
    "# MSE_trian = mean_squared_error(y_train, train_predictions)\n",
    "# RMSE_train = np.sqrt(MSE_trian)\n",
    "# print(f\"MAE on Training Data: {MAE_train:.6f}\")\n",
    "# print(f\"RMSE on Training Data: {RMSE_train:.6f}\")\n",
    "\n",
    "\n",
    "\n",
    "# validation_predictions = model.predict(X_val_scaled)\n",
    "# MAE_val = mean_absolute_error(y_val, validation_predictions)\n",
    "# MSE_val = mean_squared_error(y_val, validation_predictions)\n",
    "# RMSE_val = np.sqrt(MSE_val)\n",
    "# print(f\"MAE on Validation Data: {MAE_val:.6f}\")\n",
    "# print(f\"RMSE on Validation Data: {RMSE_val:.6f}\")\n",
    "# X_val_scaled"
   ]
  },
  {
   "cell_type": "markdown",
   "id": "9b26f104",
   "metadata": {},
   "source": [
    "# Ridge Regression"
   ]
  },
  {
   "cell_type": "markdown",
   "id": "80667f8d",
   "metadata": {},
   "source": [
    "# Test out Ridge Modeling"
   ]
  },
  {
   "cell_type": "code",
   "execution_count": 28,
   "id": "890716e5",
   "metadata": {},
   "outputs": [
    {
     "name": "stdout",
     "output_type": "stream",
     "text": [
      "Fitting 5 folds for each of 50 candidates, totalling 250 fits\n",
      "The Ridge score on training set is 0.635\n",
      "The best alpha is 4.94\n",
      "RMSE on Training Data: 0.059088\n",
      "MAE on Training Data: 0.046727\n",
      "The Ridge score on the validation set is 0.416\n",
      "RMSE on Validation Data: 0.063589\n",
      "MAE on Validation Data: 0.052316\n"
     ]
    }
   ],
   "source": [
    "alpha_grid = np.logspace(-4, 6, 50)\n",
    "grid_search = GridSearchCV(estimator=Ridge(), param_grid={'alpha': alpha_grid}, cv=5, scoring='r2', verbose=1)\n",
    "scaler = StandardScaler()\n",
    "X_train_scaled = scaler.fit_transform(train_df[features])\n",
    "grid_search.fit(X_train_scaled, y_train)\n",
    "\n",
    "# Extracting best estimator and scoring\n",
    "best_alpha = grid_search.best_params_['alpha']\n",
    "print(f\"The Ridge score on training set is {grid_search.score(X_train_scaled, y_train):.3}\")\n",
    "print(f\"The best alpha is {best_alpha:.3}\")\n",
    "\n",
    "#error metrics on training data \n",
    "training_predictions = grid_search.predict(X_train_scaled)\n",
    "MAE_train = mean_absolute_error(y_train, training_predictions)\n",
    "MSE_train = mean_squared_error(y_train, training_predictions)\n",
    "RMSE_train = np.sqrt(MSE_train)\n",
    "print(f\"RMSE on Training Data: {RMSE_train:.6f}\")\n",
    "print(f\"MAE on Training Data: {MAE_train:.6f}\")\n",
    "\n",
    "# Scoring on test and validation sets\n",
    "X_val_scaled = scaler.transform(val_df[features])\n",
    "print(f\"The Ridge score on the validation set is {grid_search.score(X_val_scaled, y_val):.3}\")\n",
    "\n",
    "# Error metrics on validation data\n",
    "validation_predictions = grid_search.predict(X_val_scaled)\n",
    "MAE_val = mean_absolute_error(y_val, validation_predictions)\n",
    "MSE_val = mean_squared_error(y_val, validation_predictions)\n",
    "RMSE_val = np.sqrt(MSE_val)\n",
    "print(f\"RMSE on Validation Data: {RMSE_val:.6f}\")\n",
    "print(f\"MAE on Validation Data: {MAE_val:.6f}\")\n"
   ]
  },
  {
   "cell_type": "code",
   "execution_count": 31,
   "id": "8670192e-42c2-4199-85ea-82e5c11ed4c7",
   "metadata": {},
   "outputs": [
    {
     "name": "stdout",
     "output_type": "stream",
     "text": [
      "The Ridge score on the test set is 0.586\n",
      "RMSE on Test Data: 0.052425\n",
      "MAE on Test Data: 0.041925\n",
      "MSE on Test Data: 0.002748349157661836\n"
     ]
    }
   ],
   "source": [
    "###Test Ridge Performance \n",
    "\n",
    "X_test_scaled = scaler.transform(test_df[features])\n",
    "print(f\"The Ridge score on the test set is {grid_search.score(X_test_scaled, y_test):.3}\")\n",
    "\n",
    "test_predictions = grid_search.predict(X_test_scaled)\n",
    "\n",
    "MAE_test = mean_absolute_error(y_test, test_predictions)\n",
    "MSE_test = mean_squared_error(y_test, test_predictions)\n",
    "RMSE_test = np.sqrt(MSE_test)\n",
    "\n",
    "\n",
    "print(f\"RMSE on Test Data: {RMSE_test:.6f}\")\n",
    "print(f\"MAE on Test Data: {MAE_test:.6f}\")\n",
    "print(\"MSE on Test Data:\", MSE_test)\n"
   ]
  },
  {
   "cell_type": "code",
   "execution_count": 32,
   "id": "56a5729c",
   "metadata": {},
   "outputs": [
    {
     "data": {
      "image/png": "[encoded data removed]",
      "text/plain": [
       "<Figure size 1500x600 with 1 Axes>"
      ]
     },
     "metadata": {},
     "output_type": "display_data"
    }
   ],
   "source": [
    "differences = y_test - test_predictions\n",
    "\n",
    "plt.figure(figsize=(15, 6))\n",
    "plt.hist(differences, bins=40, alpha=0.7, color='blue')\n",
    "plt.title('Differences in Predicted vs. Actual OPS')\n",
    "plt.xlabel('OPS Difference')\n",
    "plt.ylabel('Frequency')\n",
    "plt.grid(True)\n",
    "plt.show()"
   ]
  },
  {
   "cell_type": "code",
   "execution_count": 33,
   "id": "a13ba09f",
   "metadata": {},
   "outputs": [
    {
     "data": {
      "image/png": "[encoded data removed]",
      "text/plain": [
       "<Figure size 1200x800 with 1 Axes>"
      ]
     },
     "metadata": {},
     "output_type": "display_data"
    }
   ],
   "source": [
    "best_ridge = grid_search.best_estimator_\n",
    "\n",
    "coefficients = best_ridge.coef_\n",
    "\n",
    "feature_names = features \n",
    "\n",
    "# Included features (non-zero coefficients)\n",
    "included_features = [feature for coef, feature in zip(coefficients, feature_names) if coef != 0]\n",
    "\n",
    "# Excluded features (zero coefficients)\n",
    "excluded_features = [feature for coef, feature in zip(coefficients, feature_names) if coef == 0]\n",
    "\n",
    "plt.figure(figsize=(12, 8))\n",
    "plt.bar(feature_names, coefficients, color='blue')\n",
    "plt.xlabel('Features')\n",
    "plt.ylabel('Coefficient Value')\n",
    "plt.title('Feature Importance in Ridge Regression')\n",
    "plt.xticks(rotation=45, ha='right')\n",
    "plt.axhline(y=0)\n",
    "plt.show()"
   ]
  },
  {
   "cell_type": "markdown",
   "id": "baff5578",
   "metadata": {},
   "source": [
    "# Lasso"
   ]
  },
  {
   "cell_type": "code",
   "execution_count": null,
   "id": "0814802d",
   "metadata": {},
   "outputs": [],
   "source": [
    "X_val"
   ]
  },
  {
   "cell_type": "code",
   "execution_count": 41,
   "id": "5b8f2fb7",
   "metadata": {
    "scrolled": true
   },
   "outputs": [
    {
     "name": "stdout",
     "output_type": "stream",
     "text": [
      "Fitting 5 folds for each of 50 candidates, totalling 250 fits\n",
      "The Lasso score on training set is 0.634\n",
      "The best alpha is 0.0010481131341546852\n",
      "RMSE_train: 0.059091\n",
      "MAE_train: 0.046518\n",
      "MSE_train: 0.003492\n",
      "The Lasso score on the validation set is 0.421\n",
      "RMSE_val: 0.063316\n",
      "MAE_val: 0.052077\n",
      "MSE_val: 0.004009\n"
     ]
    }
   ],
   "source": [
    "from sklearn.metrics import mean_absolute_error, mean_squared_error\n",
    "features = ['k_percent','exit_velocity_avg','sweet_spot_percent', 'barrel_batted_rate','solidcontact_percent', 'hard_hit_percent', \n",
    "          'avg_best_speed','avg_hyper_speed',\n",
    "          'whiff_percent', 'swing_percent',\n",
    "          'groundballs_percent', 'flyballs_percent']\n",
    "\n",
    "\n",
    "alpha_grid = np.logspace(-4, 6, 50)  \n",
    "#Apply grid search\n",
    "\n",
    "grid_search = GridSearchCV(estimator=Lasso(), param_grid={'alpha': alpha_grid}, cv=5, scoring='r2', verbose=1)\n",
    "\n",
    "#Standardize\n",
    "scaler = StandardScaler()\n",
    "X_train_scaled = scaler.fit_transform(train_df[features])\n",
    "y_train = train_df['on_base_plus_slg']\n",
    "\n",
    "# Fit grid search\n",
    "grid_search.fit(X_train_scaled, y_train)\n",
    "\n",
    "# Extract the best estimator (Lasso model with the best alpha)\n",
    "best_alpha = grid_search.best_params_['alpha']\n",
    "\n",
    "\n",
    "# Scoring the model on the training set\n",
    "train_score = grid_search.score(X_train_scaled, y_train)\n",
    "print(f\"The Lasso score on training set is {train_score:.3}\")\n",
    "print(f\"The best alpha is {best_alpha}\")\n",
    "\n",
    "training_predictions = grid_search.predict(X_train_scaled)  # Use best_lasso directly\n",
    "MAE_train = mean_absolute_error(y_train, training_predictions)\n",
    "MSE_train = mean_squared_error(y_train, training_predictions)\n",
    "RMSE_train = np.sqrt(MSE_train)\n",
    "\n",
    "print(\"RMSE_train: %.6f\" % (RMSE_train))\n",
    "print(\"MAE_train: %.6f\" % (MAE_train))\n",
    "print(\"MSE_train: %.6f\" % (MSE_train))\n",
    "\n",
    "\n",
    "\n",
    "##VALIDATION\n",
    "\n",
    "\n",
    "y_val = val_df['on_base_plus_slg']\n",
    "\n",
    "\n",
    "X_val_scaled = scaler.transform(val_df[features])  # Scale the test set\n",
    "validation_score = grid_search.score(X_val_scaled, y_val)  # Compute test score\n",
    "print(f\"The Lasso score on the validation set is {validation_score:.3}\")\n",
    "\n",
    "validation_predictions = grid_search.predict(X_val_scaled)  # Use best_lasso directly\n",
    "MAE_val = mean_absolute_error(y_val, validation_predictions)\n",
    "MSE_val = mean_squared_error(y_val, validation_predictions)\n",
    "RMSE_val = np.sqrt(MSE_val)\n",
    "\n",
    "print(\"RMSE_val: %.6f\" % (RMSE_val))\n",
    "print(\"MAE_val: %.6f\" % (MAE_val))\n",
    "print(\"MSE_val: %.6f\" % (MSE_val))\n"
   ]
  },
  {
   "cell_type": "code",
   "execution_count": 40,
   "id": "ec62a80c-1815-48a1-873c-96232717d7dc",
   "metadata": {},
   "outputs": [
    {
     "name": "stdout",
     "output_type": "stream",
     "text": [
      "The Lasso score on the test set is 0.594\n",
      "RMSE on Test Data: 0.051917\n",
      "MAE on Test Data: 0.041456\n",
      "MSE on Test Data: 0.002695\n"
     ]
    }
   ],
   "source": [
    "# Scoring the model on the test set\n",
    "X_test_scaled = scaler.transform(test_df[features])  # Scale the test set\n",
    "test_score = grid_search.score(X_test_scaled, y_test)  # Compute test score\n",
    "print(f\"The Lasso score on the test set is {test_score:.3}\")\n",
    "\n",
    "\n",
    "\n",
    "test_predictions = grid_search.predict(X_test_scaled)\n",
    "\n",
    "MAE_test = mean_absolute_error(y_test, test_predictions)\n",
    "MSE_test = mean_squared_error(y_test, test_predictions)\n",
    "RMSE_test = np.sqrt(MSE_test)\n",
    "\n",
    "print(\"RMSE on Test Data: %.6f\" % (RMSE_test))\n",
    "print(\"MAE on Test Data: %.6f\" % (MAE_test))\n",
    "print(\"MSE on Test Data: %.6f\" % (MSE_test))\n"
   ]
  },
  {
   "cell_type": "code",
   "execution_count": null,
   "id": "5f5bf488",
   "metadata": {
    "scrolled": true
   },
   "outputs": [],
   "source": [
    "differences = y_test - test_predictions\n",
    "\n",
    "plt.figure(figsize=(15, 6))\n",
    "plt.hist(differences, bins=40, alpha=0.7, color='blue')\n",
    "plt.title('Differences in Predicted vs. Actual OPS')\n",
    "plt.xlabel('OPS Difference')\n",
    "plt.ylabel('Frequency')\n",
    "plt.grid(True)\n",
    "plt.show()"
   ]
  },
  {
   "cell_type": "code",
   "execution_count": null,
   "id": "e02f29c5",
   "metadata": {},
   "outputs": [],
   "source": [
    "best_lasso = grid_search.best_estimator_\n",
    "\n",
    "coefficients = best_lasso.coef_\n",
    "\n",
    "feature_names = features \n",
    "\n",
    "# Included features (non-zero coefficients)\n",
    "included_features = [feature for coef, feature in zip(coefficients, feature_names) if coef != 0]\n",
    "\n",
    "# Excluded features (zero coefficients)\n",
    "excluded_features = [feature for coef, feature in zip(coefficients, feature_names) if coef == 0]\n",
    "\n",
    "plt.figure(figsize=(12, 8))\n",
    "plt.bar(feature_names, coefficients, color='blue')\n",
    "plt.xlabel('Features')\n",
    "plt.ylabel('Coefficient Value')\n",
    "plt.title('Feature Importance in Lasso Regression')\n",
    "plt.xticks(rotation=45, ha='right')\n",
    "plt.axhline(y=0)\n",
    "plt.show()"
   ]
  },
  {
   "cell_type": "markdown",
   "id": "30c2a342",
   "metadata": {},
   "source": [
    "# Decision Tree Regressor\n",
    "* Decision tree regression may not be the best method as its score is relatively low"
   ]
  },
  {
   "cell_type": "code",
   "execution_count": null,
   "id": "6a2c4463",
   "metadata": {},
   "outputs": [],
   "source": [
    "model= DecisionTreeRegressor()\n",
    "\n",
    "model.fit(X_train_scaled, y_train)\n",
    "y_pred=model.predict(X_test_scaled)\n",
    "\n",
    "\n",
    "from sklearn.metrics import mean_absolute_error\n",
    "\n",
    "# Assuming y_pred and y_test are your predicted and true labels, respectively\n",
    "mae = mean_absolute_error(y_test, y_pred)\n",
    "print(\"Mean Absolute Error:\", mae)\n",
    "\n"
   ]
  },
  {
   "cell_type": "markdown",
   "id": "ee57b94c",
   "metadata": {},
   "source": [
    "# Gradient Boosting"
   ]
  },
  {
   "cell_type": "code",
   "execution_count": null,
   "id": "54a6c7e3",
   "metadata": {},
   "outputs": [],
   "source": [
    "X_train = train_df.loc[:, train_df.columns!=\"on_base_plus_slg\"]\n",
    "X_train= X_train[features]\n",
    "X_train_scaled= scaler.fit_transform(X_train)\n",
    "\n",
    "X_test = test_df.loc[:, test_df.columns!=\"on_base_plus_slg\"]\n",
    "X_test= X_test[features]\n",
    "X_test_scaled= scaler.transform(X_test)"
   ]
  },
  {
   "cell_type": "code",
   "execution_count": null,
   "id": "3a5b69bf",
   "metadata": {},
   "outputs": [],
   "source": [
    "param_grid = {\n",
    "    'n_estimators': [50, 100, 200],\n",
    "    'learning_rate': [0.01, 0.1, 0.5, 1.0],\n",
    "    'max_depth': [1, 3, 5]\n",
    "}\n",
    "\n",
    "gb = GradientBoostingRegressor(random_state=42)\n",
    "grid_search = GridSearchCV(estimator=gb, param_grid=param_grid, cv=5, scoring='neg_mean_squared_error', verbose=1)\n",
    "\n",
    "grid_search.fit(X_train_scaled, y_train)\n",
    "\n",
    "best_gb = grid_search.best_estimator_\n",
    "print(\"Best parameters:\", grid_search.best_params_)\n",
    "\n",
    "# Predict on the test data\n",
    "y_pred = best_gb.predict(X_test_scaled)\n",
    "\n",
    "# Calculate MSE and R-squared\n",
    "mse = mean_squared_error(y_test, y_pred)\n",
    "r_squared = best_gb.score(X_test_scaled, y_test)\n",
    "\n",
    "print(\"Mean Squared Error:\", mse)\n",
    "print(\"R-squared:\", r_squared)\n",
    "\n",
    "import matplotlib.pyplot as plt\n",
    "\n",
    "feature_importances = best_gb.feature_importances_\n",
    "\n",
    "\n",
    "feature_importances"
   ]
  }
 ],
 "metadata": {
  "kernelspec": {
   "display_name": "Python 3 (ipykernel)",
   "language": "python",
   "name": "python3"
  },
  "language_info": {
   "codemirror_mode": {
    "name": "ipython",
    "version": 3
   },
   "file_extension": ".py",
   "mimetype": "text/x-python",
   "name": "python",
   "nbconvert_exporter": "python",
   "pygments_lexer": "ipython3",
   "version": "3.11.5"
  }
 },
 "nbformat": 4,
 "nbformat_minor": 5
}
