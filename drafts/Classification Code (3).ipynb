{
 "cells": [
  {
   "cell_type": "code",
   "execution_count": 2,
   "id": "a216fd2c-22cd-480d-acfc-1ce25fb513cb",
   "metadata": {},
   "outputs": [],
   "source": [
    "import pandas as pd \n",
    "import numpy as np\n",
    "import matplotlib.pyplot as plt\n",
    "from sklearn import linear_model\n",
    "import seaborn as sns\n",
    "import matplotlib.pyplot as plt\n",
    "from sklearn.preprocessing import LabelEncoder\n",
    "from sklearn.linear_model import LinearRegression\n",
    "from sklearn.metrics import mean_absolute_error,mean_squared_error\n",
    "from sklearn.inspection import permutation_importance\n",
    "from sklearn.linear_model import LogisticRegression\n",
    "from sklearn.model_selection import (train_test_split, cross_val_score, \n",
    "                                     GridSearchCV, RandomizedSearchCV)\n",
    "from imblearn.over_sampling import RandomOverSampler\n",
    "from imblearn.under_sampling import RandomUnderSampler\n",
    "from collections import Counter\n",
    "from sklearn.metrics import accuracy_score, precision_score, recall_score, f1_score, confusion_matrix\n",
    "from sklearn.preprocessing import MinMaxScaler\n",
    "from sklearn.preprocessing import StandardScaler\n"
   ]
  },
  {
   "cell_type": "code",
   "execution_count": 3,
   "id": "c9c04e67-d782-4fc5-8bc5-147c19f887d8",
   "metadata": {},
   "outputs": [],
   "source": [
    "raw_df = pd.read_csv('stats.csv')"
   ]
  },
  {
   "cell_type": "code",
   "execution_count": 4,
   "id": "9ff4e9fa-0581-459d-a361-b64d0ed5bc71",
   "metadata": {},
   "outputs": [],
   "source": [
    "df = raw_df.copy()\n",
    "df.drop('last_name, first_name',axis = 1,inplace=True)\n",
    "df.drop('player_id',axis = 1,inplace=True)"
   ]
  },
  {
   "cell_type": "markdown",
   "id": "e5578935-bda4-4fed-bb83-8220ecddd537",
   "metadata": {},
   "source": [
    "CREATING A CLASSIFICATION PROBLEM \n",
    "BINNING OBPS \n",
    "An OPS scale\n",
    "\n",
    "According to https://en.wikipedia.org/wiki/On-base_plus_slugging\n",
    "\"Bill James, in his essay titled \"The 96 Families of Hitters\"[4] uses seven different categories for classification by OPS:\n",
    "\n",
    "| Category | Classification\t| OPS range       |\n",
    "|----------|----------------|-----------------|\n",
    "|A         |\tGreat\t    |.9000 and higher |\n",
    "|B         |\tVery good\t|.8334 to .8999   |\n",
    "|C         |Above average   |.7667 to .8333   |\n",
    "|D         |\tAverage\t    | .7000 to .7666  |\n",
    "|E         |Below average\t|.6334 to .6999   |\n",
    "|F         |\tPoor\t    |.5667 to .6333   |\n",
    "|G         |\tVery poor   |.5666 and lower  |\n",
    "\n",
    "\n",
    "\n",
    "\n",
    "I have created a scale such that we are classifying below, average and above average hitters based on their ops\n",
    "The categories for classification by OPS I have created: \n",
    "\n",
    "\n",
    "| Category | Classification\t| OPS range       |\n",
    "|----------|----------------|-----------------|\n",
    "|1         |At least Average|.7000 and higher\n",
    "|0         |Below average\t|.6999  and lower |\n"
   ]
  },
  {
   "cell_type": "code",
   "execution_count": 5,
   "id": "41bdcfd5-45c6-4f8e-9103-c6c80ff6578f",
   "metadata": {},
   "outputs": [
    {
     "name": "stdout",
     "output_type": "stream",
     "text": [
      "There are no missing values in the classification dataframe c_df\n",
      "There are no duplicated values in the classification dataframe c_df\n"
     ]
    },
    {
     "data": {
      "text/html": [
       "<div>\n",
       "<style scoped>\n",
       "    .dataframe tbody tr th:only-of-type {\n",
       "        vertical-align: middle;\n",
       "    }\n",
       "\n",
       "    .dataframe tbody tr th {\n",
       "        vertical-align: top;\n",
       "    }\n",
       "\n",
       "    .dataframe thead th {\n",
       "        text-align: right;\n",
       "    }\n",
       "</style>\n",
       "<table border=\"1\" class=\"dataframe\">\n",
       "  <thead>\n",
       "    <tr style=\"text-align: right;\">\n",
       "      <th></th>\n",
       "      <th>year</th>\n",
       "      <th>pa</th>\n",
       "      <th>hit</th>\n",
       "      <th>single</th>\n",
       "      <th>double</th>\n",
       "      <th>triple</th>\n",
       "      <th>home_run</th>\n",
       "      <th>k_percent</th>\n",
       "      <th>bb_percent</th>\n",
       "      <th>on_base_plus_slg</th>\n",
       "      <th>...</th>\n",
       "      <th>barrel_batted_rate</th>\n",
       "      <th>solidcontact_percent</th>\n",
       "      <th>hard_hit_percent</th>\n",
       "      <th>avg_best_speed</th>\n",
       "      <th>avg_hyper_speed</th>\n",
       "      <th>whiff_percent</th>\n",
       "      <th>swing_percent</th>\n",
       "      <th>groundballs_percent</th>\n",
       "      <th>flyballs_percent</th>\n",
       "      <th>Classification</th>\n",
       "    </tr>\n",
       "  </thead>\n",
       "  <tbody>\n",
       "    <tr>\n",
       "      <th>0</th>\n",
       "      <td>2020</td>\n",
       "      <td>231</td>\n",
       "      <td>51</td>\n",
       "      <td>37</td>\n",
       "      <td>4</td>\n",
       "      <td>0</td>\n",
       "      <td>10</td>\n",
       "      <td>22.1</td>\n",
       "      <td>10.4</td>\n",
       "      <td>0.746</td>\n",
       "      <td>...</td>\n",
       "      <td>9.7</td>\n",
       "      <td>5.8</td>\n",
       "      <td>49.7</td>\n",
       "      <td>102.655113</td>\n",
       "      <td>96.026886</td>\n",
       "      <td>31.6</td>\n",
       "      <td>47.7</td>\n",
       "      <td>42.6</td>\n",
       "      <td>21.9</td>\n",
       "      <td>1</td>\n",
       "    </tr>\n",
       "    <tr>\n",
       "      <th>1</th>\n",
       "      <td>2020</td>\n",
       "      <td>214</td>\n",
       "      <td>56</td>\n",
       "      <td>34</td>\n",
       "      <td>6</td>\n",
       "      <td>0</td>\n",
       "      <td>16</td>\n",
       "      <td>27.1</td>\n",
       "      <td>11.7</td>\n",
       "      <td>0.992</td>\n",
       "      <td>...</td>\n",
       "      <td>15.0</td>\n",
       "      <td>3.9</td>\n",
       "      <td>47.2</td>\n",
       "      <td>102.723680</td>\n",
       "      <td>95.933078</td>\n",
       "      <td>34.2</td>\n",
       "      <td>47.6</td>\n",
       "      <td>47.2</td>\n",
       "      <td>21.3</td>\n",
       "      <td>1</td>\n",
       "    </tr>\n",
       "    <tr>\n",
       "      <th>2</th>\n",
       "      <td>2020</td>\n",
       "      <td>218</td>\n",
       "      <td>61</td>\n",
       "      <td>45</td>\n",
       "      <td>10</td>\n",
       "      <td>1</td>\n",
       "      <td>5</td>\n",
       "      <td>20.6</td>\n",
       "      <td>6.0</td>\n",
       "      <td>0.772</td>\n",
       "      <td>...</td>\n",
       "      <td>5.0</td>\n",
       "      <td>6.3</td>\n",
       "      <td>36.3</td>\n",
       "      <td>100.556637</td>\n",
       "      <td>94.354591</td>\n",
       "      <td>21.1</td>\n",
       "      <td>46.6</td>\n",
       "      <td>51.2</td>\n",
       "      <td>18.8</td>\n",
       "      <td>1</td>\n",
       "    </tr>\n",
       "    <tr>\n",
       "      <th>3</th>\n",
       "      <td>2020</td>\n",
       "      <td>209</td>\n",
       "      <td>49</td>\n",
       "      <td>31</td>\n",
       "      <td>10</td>\n",
       "      <td>1</td>\n",
       "      <td>7</td>\n",
       "      <td>18.7</td>\n",
       "      <td>5.3</td>\n",
       "      <td>0.722</td>\n",
       "      <td>...</td>\n",
       "      <td>11.5</td>\n",
       "      <td>3.8</td>\n",
       "      <td>45.2</td>\n",
       "      <td>101.530260</td>\n",
       "      <td>95.520896</td>\n",
       "      <td>21.0</td>\n",
       "      <td>45.0</td>\n",
       "      <td>50.3</td>\n",
       "      <td>25.5</td>\n",
       "      <td>1</td>\n",
       "    </tr>\n",
       "    <tr>\n",
       "      <th>4</th>\n",
       "      <td>2020</td>\n",
       "      <td>213</td>\n",
       "      <td>46</td>\n",
       "      <td>26</td>\n",
       "      <td>9</td>\n",
       "      <td>3</td>\n",
       "      <td>8</td>\n",
       "      <td>18.8</td>\n",
       "      <td>8.9</td>\n",
       "      <td>0.752</td>\n",
       "      <td>...</td>\n",
       "      <td>6.5</td>\n",
       "      <td>8.4</td>\n",
       "      <td>38.3</td>\n",
       "      <td>97.982869</td>\n",
       "      <td>93.323023</td>\n",
       "      <td>20.5</td>\n",
       "      <td>46.1</td>\n",
       "      <td>45.5</td>\n",
       "      <td>26.6</td>\n",
       "      <td>1</td>\n",
       "    </tr>\n",
       "  </tbody>\n",
       "</table>\n",
       "<p>5 rows × 22 columns</p>\n",
       "</div>"
      ],
      "text/plain": [
       "   year   pa  hit  single  double  triple  home_run  k_percent  bb_percent  \\\n",
       "0  2020  231   51      37       4       0        10       22.1        10.4   \n",
       "1  2020  214   56      34       6       0        16       27.1        11.7   \n",
       "2  2020  218   61      45      10       1         5       20.6         6.0   \n",
       "3  2020  209   49      31      10       1         7       18.7         5.3   \n",
       "4  2020  213   46      26       9       3         8       18.8         8.9   \n",
       "\n",
       "   on_base_plus_slg  ...  barrel_batted_rate  solidcontact_percent  \\\n",
       "0             0.746  ...                 9.7                   5.8   \n",
       "1             0.992  ...                15.0                   3.9   \n",
       "2             0.772  ...                 5.0                   6.3   \n",
       "3             0.722  ...                11.5                   3.8   \n",
       "4             0.752  ...                 6.5                   8.4   \n",
       "\n",
       "   hard_hit_percent  avg_best_speed  avg_hyper_speed  whiff_percent  \\\n",
       "0              49.7      102.655113        96.026886           31.6   \n",
       "1              47.2      102.723680        95.933078           34.2   \n",
       "2              36.3      100.556637        94.354591           21.1   \n",
       "3              45.2      101.530260        95.520896           21.0   \n",
       "4              38.3       97.982869        93.323023           20.5   \n",
       "\n",
       "   swing_percent  groundballs_percent  flyballs_percent  Classification  \n",
       "0           47.7                 42.6              21.9               1  \n",
       "1           47.6                 47.2              21.3               1  \n",
       "2           46.6                 51.2              18.8               1  \n",
       "3           45.0                 50.3              25.5               1  \n",
       "4           46.1                 45.5              26.6               1  \n",
       "\n",
       "[5 rows x 22 columns]"
      ]
     },
     "execution_count": 5,
     "metadata": {},
     "output_type": "execute_result"
    }
   ],
   "source": [
    "#new dataset for classification\n",
    "c_df = df.copy()\n",
    "\n",
    "# Define the OPS ranges and corresponding classifications\n",
    "ops_ranges = {\n",
    "    1: (0.7000, float('inf')),\n",
    "    0: (-float('inf'), 0.6999)\n",
    "}\n",
    "\n",
    "# Create an empty list to store the classifications\n",
    "classifications = []\n",
    "\n",
    "for ops_value in c_df['on_base_plus_slg']:\n",
    "    for classification, (lower_bound, upper_bound) in ops_ranges.items():\n",
    "        if lower_bound <= ops_value < upper_bound:\n",
    "            classifications.append(classification)\n",
    "            break\n",
    "    else:\n",
    "        # If the OPS value didn't fall within any range, append a default value\n",
    "        classifications.append('Unknown')\n",
    "\n",
    "# Add the classifications to your dataset as a new column\n",
    "c_df['Classification'] = classifications\n",
    "\n",
    "\n",
    "\n",
    "#double checking that there are no missing or duplicated values for saftey \n",
    "\n",
    "if c_df.isna().any().any():\n",
    "    print(\"There are missing values in the classification dataframe c_df.\")\n",
    "else:\n",
    "    print(\"There are no missing values in the classification dataframe c_df\")\n",
    "\n",
    "if c_df.duplicated().any().any():\n",
    "    print(\"There are duplicated values in the classification dataframe c_df.\")\n",
    "else:\n",
    "    print(\"There are no duplicated values in the classification dataframe c_df\")\n",
    "\n",
    "c_df.head(n=5)"
   ]
  },
  {
   "cell_type": "markdown",
   "id": "431c9025-e4dc-44dd-a800-d08c5f28ecd5",
   "metadata": {},
   "source": [
    "## Split into three datasets: train,test,split"
   ]
  },
  {
   "cell_type": "code",
   "execution_count": 6,
   "id": "e006fc6b-17e6-405a-b5d8-b57463f8d153",
   "metadata": {},
   "outputs": [],
   "source": [
    "#train test split datasets\n",
    "\n",
    "c_train_df = c_df[(c_df['year'] == 2021) | (c_df['year'] == 2020)]\n",
    "c_val_df = c_df[c_df.year==2022]\n",
    "c_test_df = c_df[c_df.year==2023]\n"
   ]
  },
  {
   "cell_type": "markdown",
   "id": "a4396c0d-f9a0-493c-b355-13dc16f9f2a0",
   "metadata": {},
   "source": [
    "## Define X_train and y_train"
   ]
  },
  {
   "cell_type": "code",
   "execution_count": 7,
   "id": "4534561b-608d-4597-8fc9-dd0fa6458808",
   "metadata": {},
   "outputs": [
    {
     "data": {
      "text/plain": [
       "Counter({1: 235, 0: 39})"
      ]
     },
     "execution_count": 7,
     "metadata": {},
     "output_type": "execute_result"
    }
   ],
   "source": [
    "features = ['k_percent','exit_velocity_avg','sweet_spot_percent', 'barrel_batted_rate','solidcontact_percent', 'hard_hit_percent', \n",
    "          'avg_best_speed','avg_hyper_speed',\n",
    "          'whiff_percent', 'swing_percent',\n",
    "          'groundballs_percent', 'flyballs_percent']\n",
    "\n",
    "X_train = c_train_df[features]\n",
    "y_train = c_train_df.Classification\n",
    "Counter(y_train)"
   ]
  },
  {
   "cell_type": "markdown",
   "id": "079cac98-a485-44f1-bed4-5e335a2b4d82",
   "metadata": {},
   "source": [
    "## Standard Scaling X"
   ]
  },
  {
   "cell_type": "code",
   "execution_count": 8,
   "id": "2c2f6aca-89b9-48f7-b5f2-463a15f6784d",
   "metadata": {},
   "outputs": [
    {
     "data": {
      "text/plain": [
       "array([[ 0.13966454,  1.66076744,  0.65087111, ...,  0.16584048,\n",
       "        -0.06522197, -0.6694329 ],\n",
       "       [ 0.97013514,  0.96417306,  1.25675191, ...,  0.14548192,\n",
       "         0.59189854, -0.77387892],\n",
       "       [-0.10947663, -0.08071851, -1.07355887, ..., -0.05810361,\n",
       "         1.16330768, -1.20907066],\n",
       "       ...,\n",
       "       [-0.17591428, -0.2548671 , -0.42107185, ..., -0.09882071,\n",
       "         0.04905985,  0.18354291],\n",
       "       [-1.35518252, -1.12561008, -1.49301481, ..., -0.3634819 ,\n",
       "         2.13470321, -1.53981638],\n",
       "       [ 0.48846219,  1.66076744,  0.74408354, ..., -0.77065296,\n",
       "        -0.72234248,  0.75799601]])"
      ]
     },
     "execution_count": 8,
     "metadata": {},
     "output_type": "execute_result"
    }
   ],
   "source": [
    "scaler = StandardScaler()\n",
    "X_train_scaled = scaler.fit_transform(X_train) # do scaling\n",
    "X_train_scaled"
   ]
  },
  {
   "cell_type": "markdown",
   "id": "73a14944-bed1-4e8c-8bee-2b34b187bc25",
   "metadata": {},
   "source": [
    "## Addressing class imbalance by oversampling"
   ]
  },
  {
   "cell_type": "code",
   "execution_count": 9,
   "id": "13bd2989-b6f5-40de-b601-74e14420ab08",
   "metadata": {},
   "outputs": [
    {
     "data": {
      "text/plain": [
       "Counter({1: 235, 0: 235})"
      ]
     },
     "execution_count": 9,
     "metadata": {},
     "output_type": "execute_result"
    }
   ],
   "source": [
    "# Initialize RandomOverSampler\n",
    "ros = RandomOverSampler(random_state=0)\n",
    "\n",
    "# Resample the dataset\n",
    "X_train_resampled, y_train_resampled = ros.fit_resample(X_train_scaled, y_train)\n",
    "Counter(y_train_resampled)"
   ]
  },
  {
   "cell_type": "markdown",
   "id": "0ed56761-3f44-44d3-8dba-a5918c87aae8",
   "metadata": {},
   "source": [
    "## Training Model"
   ]
  },
  {
   "cell_type": "code",
   "execution_count": 11,
   "id": "4b1d1b60-6d5c-4f4d-9190-cfe4774ed68f",
   "metadata": {},
   "outputs": [
    {
     "name": "stdout",
     "output_type": "stream",
     "text": [
      "The accuracy on the scaled, resampled training data is: 0.779.\n"
     ]
    }
   ],
   "source": [
    "from sklearn.linear_model import LogisticRegression\n",
    "clf = LogisticRegression()\n",
    "clf.fit(X_train_resampled, y_train_resampled)\n",
    "print(f'The accuracy on the scaled, resampled training data is: {clf.score(X_train_resampled,y_train_resampled):.3}.')"
   ]
  },
  {
   "cell_type": "markdown",
   "id": "c6edea97-5af3-4586-bffc-dda0737f4b30",
   "metadata": {},
   "source": [
    "## Defining Validation Data, Tranforming the X_val data by the Standard Scaler that was fit to the X_train data and making predictions on the scaled X_Val\n",
    "## Accuracy and precision on the validation data"
   ]
  },
  {
   "cell_type": "code",
   "execution_count": 12,
   "id": "95dcf50f-edb4-4323-888a-25ba6575d5ea",
   "metadata": {},
   "outputs": [
    {
     "name": "stdout",
     "output_type": "stream",
     "text": [
      "accuracy: 0.792, precision: 0.837.\n"
     ]
    }
   ],
   "source": [
    "#defining X_val and y_val \n",
    "X_val = c_val_df[features]\n",
    "y_true_val = c_val_df.Classification\n",
    "\n",
    "\n",
    "# Transform validation data using the same scaler the scaler was fit to the trainning data now it is transformer the val data in the same way\n",
    "X_val_scaled = scaler.transform(X_val)\n",
    "\n",
    "# Make predictions on validation data\n",
    "y_hat_val = clf.predict(X_val_scaled)\n",
    "\n",
    "# Evaluate accuracy\n",
    "accuracy = accuracy_score(y_true_val, y_hat_val)\n",
    "\n",
    "# Evaluate precision\n",
    "precision = precision_score(y_true_val, y_hat_val, average='weighted')\n",
    "print(f'accuracy: {accuracy:.3}, precision: {precision:.3}.')\n"
   ]
  },
  {
   "cell_type": "markdown",
   "id": "673c4442-98a8-46ea-b0bc-79d9e7ea388e",
   "metadata": {},
   "source": [
    "## Grid Search"
   ]
  },
  {
   "cell_type": "code",
   "execution_count": 29,
   "id": "256f6ed7-b2dd-4992-b81e-6995510aa205",
   "metadata": {},
   "outputs": [
    {
     "name": "stdout",
     "output_type": "stream",
     "text": [
      "clf.best_score_=0.791, clf.best_params_={'C': 1000, 'max_iter': 1000, 'penalty': 'l2'}\n"
     ]
    }
   ],
   "source": [
    "parameters = [{'max_iter': [1000, 5000, 10000], 'C': [0.01, 1, 10, 1000], 'penalty': ['l2']}]\n",
    "model = linear_model.LogisticRegression(multi_class='multinomial')\n",
    "clf = GridSearchCV(model, parameters)\n",
    "clf.fit(X_train_resampled, y_train_resampled)\n",
    "\n",
    "print(f'clf.best_score_={clf.best_score_:.3}, ' +\n",
    "      f'clf.best_params_={clf.best_params_}')\n"
   ]
  },
  {
   "cell_type": "code",
   "execution_count": 30,
   "id": "e85af5d9-927e-4b4f-9c09-3f82b363f87a",
   "metadata": {},
   "outputs": [
    {
     "name": "stdout",
     "output_type": "stream",
     "text": [
      "The accuracy on the scaled, resampled training data is: 0.804.\n"
     ]
    }
   ],
   "source": [
    "model = linear_model.LogisticRegression(multi_class = 'multinomial',C=1000,max_iter=1000,penalty='l2')\n",
    "model.fit(X_train_resampled, y_train_resampled)\n",
    "model.score(X_train_resampled, y_train_resampled)\n",
    "#model.score(X_val_scaled,y_true_val)\n",
    "print(f'The accuracy on the scaled, resampled training data is: {model.score(X_train_resampled,y_train_resampled):.3}.')"
   ]
  },
  {
   "cell_type": "code",
   "execution_count": 31,
   "id": "3645be40-5751-4d15-b755-11ea33050cc6",
   "metadata": {},
   "outputs": [
    {
     "name": "stdout",
     "output_type": "stream",
     "text": [
      "accuracy: 0.785, precision: 0.834.\n"
     ]
    }
   ],
   "source": [
    "#defining X_val and y_val \n",
    "X_val = c_val_df[features]\n",
    "y_true_val = c_val_df.Classification\n",
    "\n",
    "\n",
    "# Transform validation data using the same scaler the scaler was fit to the trainning data now it is transformer the val data in the same way\n",
    "X_val_scaled = scaler.transform(X_val)\n",
    "\n",
    "# Make predictions on validation data\n",
    "y_hat_val = model.predict(X_val_scaled)\n",
    "\n",
    "# Evaluate accuracy\n",
    "accuracy = accuracy_score(y_true_val, y_hat_val)\n",
    "\n",
    "# Evaluate precision\n",
    "precision = precision_score(y_true_val, y_hat_val, average='weighted')\n",
    "print(f'accuracy: {accuracy:.3}, precision: {precision:.3}.')\n"
   ]
  },
  {
   "cell_type": "code",
   "execution_count": null,
   "id": "9c514f21-b62b-4730-bed3-982aca35ea76",
   "metadata": {},
   "outputs": [],
   "source": [
    "# row_data = raw_df.iloc[13:].copy()\n",
    "# row_data = row_data\n",
    "# fun = pd.DataFrame(row_data)\n",
    "# fun\n",
    "# x = scaler.transform(fun[features])\n",
    "# x\n",
    "# # model.predict(x)\n",
    "# print(f'predicted = {model.predict(x)}.')\n",
    "# print(f'actual = {row_data.on_base_plus_slg}.')\n",
    "\n",
    "# # fun = fun[features]\n",
    "# # fun_numeric = fun.apply(pd.to_numeric)\n",
    "\n",
    "\n",
    "# # X_fun = fun_numeric[xfeatures]\n",
    "\n",
    "\n",
    "\n",
    "# # prediction = model.predict(X_fun)\n",
    "# # predicted_obps = prediction[0] \n",
    "\n",
    "\n",
    "# # actual_obps = fun_numeric['on_base_plus_slg'].iloc[0]\n",
    "\n",
    "# # print(f'The predicted obps is {predicted_obps:.3} and the actual obps is {actual_obps}.')"
   ]
  },
  {
   "cell_type": "code",
   "execution_count": null,
   "id": "ae89d72f-4420-45cb-a8a4-95a6b140385d",
   "metadata": {},
   "outputs": [],
   "source": []
  }
 ],
 "metadata": {
  "kernelspec": {
   "display_name": "Python 3 (ipykernel)",
   "language": "python",
   "name": "python3"
  },
  "language_info": {
   "codemirror_mode": {
    "name": "ipython",
    "version": 3
   },
   "file_extension": ".py",
   "mimetype": "text/x-python",
   "name": "python",
   "nbconvert_exporter": "python",
   "pygments_lexer": "ipython3",
   "version": "3.11.5"
  }
 },
 "nbformat": 4,
 "nbformat_minor": 5
}
