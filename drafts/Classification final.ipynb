{
 "cells": [
  {
   "cell_type": "code",
   "execution_count": 49,
   "id": "ec1e52bf-1cd4-41ca-b014-d21f2407ed38",
   "metadata": {},
   "outputs": [],
   "source": [
    "import pandas as pd \n",
    "import numpy as np\n",
    "import matplotlib.pyplot as plt\n",
    "from sklearn import linear_model\n",
    "import seaborn as sns\n",
    "import matplotlib.pyplot as plt\n",
    "from sklearn.preprocessing import LabelEncoder\n",
    "from sklearn.linear_model import LinearRegression\n",
    "from sklearn.metrics import mean_absolute_error,mean_squared_error\n",
    "from sklearn.inspection import permutation_importance\n",
    "from sklearn.linear_model import LogisticRegression\n",
    "from sklearn.model_selection import (train_test_split, cross_val_score, \n",
    "                                     GridSearchCV, RandomizedSearchCV)\n",
    "from imblearn.over_sampling import RandomOverSampler\n",
    "from imblearn.under_sampling import RandomUnderSampler\n",
    "from collections import Counter\n",
    "from sklearn.metrics import accuracy_score, precision_score, recall_score, f1_score, confusion_matrix\n",
    "from sklearn.preprocessing import MinMaxScaler\n",
    "from sklearn.preprocessing import StandardScaler\n",
    "from sklearn.preprocessing import StandardScaler\n",
    "from sklearn.metrics import confusion_matrix, ConfusionMatrixDisplay"
   ]
  },
  {
   "cell_type": "code",
   "execution_count": 2,
   "id": "eaf7263e-f9ab-40b2-99cd-06e5f6a84654",
   "metadata": {},
   "outputs": [],
   "source": [
    "raw_df = pd.read_csv('stats.csv')"
   ]
  },
  {
   "cell_type": "code",
   "execution_count": 3,
   "id": "6f1ea924-be99-40ca-bca6-35cf55dd7b5f",
   "metadata": {},
   "outputs": [],
   "source": [
    "df = raw_df.copy()\n",
    "df.drop('last_name, first_name',axis = 1,inplace=True)\n",
    "df.drop('player_id',axis = 1,inplace=True)"
   ]
  },
  {
   "cell_type": "code",
   "execution_count": 4,
   "id": "5b2e222e-dfd5-49bd-946b-c68d37093612",
   "metadata": {},
   "outputs": [
    {
     "name": "stdout",
     "output_type": "stream",
     "text": [
      "There are no missing values in the classification dataframe c_df\n",
      "There are no duplicated values in the classification dataframe c_df\n"
     ]
    },
    {
     "data": {
      "text/html": [
       "<div>\n",
       "<style scoped>\n",
       "    .dataframe tbody tr th:only-of-type {\n",
       "        vertical-align: middle;\n",
       "    }\n",
       "\n",
       "    .dataframe tbody tr th {\n",
       "        vertical-align: top;\n",
       "    }\n",
       "\n",
       "    .dataframe thead th {\n",
       "        text-align: right;\n",
       "    }\n",
       "</style>\n",
       "<table border=\"1\" class=\"dataframe\">\n",
       "  <thead>\n",
       "    <tr style=\"text-align: right;\">\n",
       "      <th></th>\n",
       "      <th>year</th>\n",
       "      <th>pa</th>\n",
       "      <th>hit</th>\n",
       "      <th>single</th>\n",
       "      <th>double</th>\n",
       "      <th>triple</th>\n",
       "      <th>home_run</th>\n",
       "      <th>k_percent</th>\n",
       "      <th>bb_percent</th>\n",
       "      <th>on_base_plus_slg</th>\n",
       "      <th>...</th>\n",
       "      <th>barrel_batted_rate</th>\n",
       "      <th>solidcontact_percent</th>\n",
       "      <th>hard_hit_percent</th>\n",
       "      <th>avg_best_speed</th>\n",
       "      <th>avg_hyper_speed</th>\n",
       "      <th>whiff_percent</th>\n",
       "      <th>swing_percent</th>\n",
       "      <th>groundballs_percent</th>\n",
       "      <th>flyballs_percent</th>\n",
       "      <th>Classification</th>\n",
       "    </tr>\n",
       "  </thead>\n",
       "  <tbody>\n",
       "    <tr>\n",
       "      <th>0</th>\n",
       "      <td>2020</td>\n",
       "      <td>231</td>\n",
       "      <td>51</td>\n",
       "      <td>37</td>\n",
       "      <td>4</td>\n",
       "      <td>0</td>\n",
       "      <td>10</td>\n",
       "      <td>22.1</td>\n",
       "      <td>10.4</td>\n",
       "      <td>0.746</td>\n",
       "      <td>...</td>\n",
       "      <td>9.7</td>\n",
       "      <td>5.8</td>\n",
       "      <td>49.7</td>\n",
       "      <td>102.655113</td>\n",
       "      <td>96.026886</td>\n",
       "      <td>31.6</td>\n",
       "      <td>47.7</td>\n",
       "      <td>42.6</td>\n",
       "      <td>21.9</td>\n",
       "      <td>1</td>\n",
       "    </tr>\n",
       "    <tr>\n",
       "      <th>1</th>\n",
       "      <td>2020</td>\n",
       "      <td>214</td>\n",
       "      <td>56</td>\n",
       "      <td>34</td>\n",
       "      <td>6</td>\n",
       "      <td>0</td>\n",
       "      <td>16</td>\n",
       "      <td>27.1</td>\n",
       "      <td>11.7</td>\n",
       "      <td>0.992</td>\n",
       "      <td>...</td>\n",
       "      <td>15.0</td>\n",
       "      <td>3.9</td>\n",
       "      <td>47.2</td>\n",
       "      <td>102.723680</td>\n",
       "      <td>95.933078</td>\n",
       "      <td>34.2</td>\n",
       "      <td>47.6</td>\n",
       "      <td>47.2</td>\n",
       "      <td>21.3</td>\n",
       "      <td>1</td>\n",
       "    </tr>\n",
       "    <tr>\n",
       "      <th>2</th>\n",
       "      <td>2020</td>\n",
       "      <td>218</td>\n",
       "      <td>61</td>\n",
       "      <td>45</td>\n",
       "      <td>10</td>\n",
       "      <td>1</td>\n",
       "      <td>5</td>\n",
       "      <td>20.6</td>\n",
       "      <td>6.0</td>\n",
       "      <td>0.772</td>\n",
       "      <td>...</td>\n",
       "      <td>5.0</td>\n",
       "      <td>6.3</td>\n",
       "      <td>36.3</td>\n",
       "      <td>100.556637</td>\n",
       "      <td>94.354591</td>\n",
       "      <td>21.1</td>\n",
       "      <td>46.6</td>\n",
       "      <td>51.2</td>\n",
       "      <td>18.8</td>\n",
       "      <td>1</td>\n",
       "    </tr>\n",
       "    <tr>\n",
       "      <th>3</th>\n",
       "      <td>2020</td>\n",
       "      <td>209</td>\n",
       "      <td>49</td>\n",
       "      <td>31</td>\n",
       "      <td>10</td>\n",
       "      <td>1</td>\n",
       "      <td>7</td>\n",
       "      <td>18.7</td>\n",
       "      <td>5.3</td>\n",
       "      <td>0.722</td>\n",
       "      <td>...</td>\n",
       "      <td>11.5</td>\n",
       "      <td>3.8</td>\n",
       "      <td>45.2</td>\n",
       "      <td>101.530260</td>\n",
       "      <td>95.520896</td>\n",
       "      <td>21.0</td>\n",
       "      <td>45.0</td>\n",
       "      <td>50.3</td>\n",
       "      <td>25.5</td>\n",
       "      <td>1</td>\n",
       "    </tr>\n",
       "    <tr>\n",
       "      <th>4</th>\n",
       "      <td>2020</td>\n",
       "      <td>213</td>\n",
       "      <td>46</td>\n",
       "      <td>26</td>\n",
       "      <td>9</td>\n",
       "      <td>3</td>\n",
       "      <td>8</td>\n",
       "      <td>18.8</td>\n",
       "      <td>8.9</td>\n",
       "      <td>0.752</td>\n",
       "      <td>...</td>\n",
       "      <td>6.5</td>\n",
       "      <td>8.4</td>\n",
       "      <td>38.3</td>\n",
       "      <td>97.982869</td>\n",
       "      <td>93.323023</td>\n",
       "      <td>20.5</td>\n",
       "      <td>46.1</td>\n",
       "      <td>45.5</td>\n",
       "      <td>26.6</td>\n",
       "      <td>1</td>\n",
       "    </tr>\n",
       "  </tbody>\n",
       "</table>\n",
       "<p>5 rows × 22 columns</p>\n",
       "</div>"
      ],
      "text/plain": [
       "   year   pa  hit  single  double  triple  home_run  k_percent  bb_percent  \\\n",
       "0  2020  231   51      37       4       0        10       22.1        10.4   \n",
       "1  2020  214   56      34       6       0        16       27.1        11.7   \n",
       "2  2020  218   61      45      10       1         5       20.6         6.0   \n",
       "3  2020  209   49      31      10       1         7       18.7         5.3   \n",
       "4  2020  213   46      26       9       3         8       18.8         8.9   \n",
       "\n",
       "   on_base_plus_slg  ...  barrel_batted_rate  solidcontact_percent  \\\n",
       "0             0.746  ...                 9.7                   5.8   \n",
       "1             0.992  ...                15.0                   3.9   \n",
       "2             0.772  ...                 5.0                   6.3   \n",
       "3             0.722  ...                11.5                   3.8   \n",
       "4             0.752  ...                 6.5                   8.4   \n",
       "\n",
       "   hard_hit_percent  avg_best_speed  avg_hyper_speed  whiff_percent  \\\n",
       "0              49.7      102.655113        96.026886           31.6   \n",
       "1              47.2      102.723680        95.933078           34.2   \n",
       "2              36.3      100.556637        94.354591           21.1   \n",
       "3              45.2      101.530260        95.520896           21.0   \n",
       "4              38.3       97.982869        93.323023           20.5   \n",
       "\n",
       "   swing_percent  groundballs_percent  flyballs_percent  Classification  \n",
       "0           47.7                 42.6              21.9               1  \n",
       "1           47.6                 47.2              21.3               1  \n",
       "2           46.6                 51.2              18.8               1  \n",
       "3           45.0                 50.3              25.5               1  \n",
       "4           46.1                 45.5              26.6               1  \n",
       "\n",
       "[5 rows x 22 columns]"
      ]
     },
     "execution_count": 4,
     "metadata": {},
     "output_type": "execute_result"
    }
   ],
   "source": [
    "#new dataset for classification\n",
    "c_df = df.copy()\n",
    "\n",
    "# Define the OPS ranges and corresponding classifications\n",
    "ops_ranges = {\n",
    "    1: (0.7000, float('inf')),\n",
    "    0: (-float('inf'), 0.6999)\n",
    "}\n",
    "\n",
    "# Create an empty list to store the classifications\n",
    "classifications = []\n",
    "\n",
    "for ops_value in c_df['on_base_plus_slg']:\n",
    "    for classification, (lower_bound, upper_bound) in ops_ranges.items():\n",
    "        if lower_bound <= ops_value < upper_bound:\n",
    "            classifications.append(classification)\n",
    "            break\n",
    "    else:\n",
    "        # If the OPS value didn't fall within any range, append a default value\n",
    "        classifications.append('Unknown')\n",
    "\n",
    "# Add the classifications to your dataset as a new column\n",
    "c_df['Classification'] = classifications\n",
    "\n",
    "\n",
    "\n",
    "#double checking that there are no missing or duplicated values for saftey \n",
    "\n",
    "if c_df.isna().any().any():\n",
    "    print(\"There are missing values in the classification dataframe c_df.\")\n",
    "else:\n",
    "    print(\"There are no missing values in the classification dataframe c_df\")\n",
    "\n",
    "if c_df.duplicated().any().any():\n",
    "    print(\"There are duplicated values in the classification dataframe c_df.\")\n",
    "else:\n",
    "    print(\"There are no duplicated values in the classification dataframe c_df\")\n",
    "\n",
    "c_df.head(n=5)"
   ]
  },
  {
   "cell_type": "code",
   "execution_count": 40,
   "id": "60d40732-8009-4b8a-ac49-978dddba8fb8",
   "metadata": {},
   "outputs": [],
   "source": [
    "#train test split datasets\n",
    "\n",
    "c_train_df = c_df[(c_df['year'] == 2021) | (c_df['year'] == 2020)]\n",
    "c_val_df = c_df[c_df.year==2022]\n",
    "c_test_df = c_df[c_df.year==2023]\n"
   ]
  },
  {
   "cell_type": "markdown",
   "id": "6a10bd4e-1aa5-480a-b851-0014a48c1627",
   "metadata": {},
   "source": [
    "Base Full model \n",
    "StandardScaler\n",
    "RandomOverSampleer"
   ]
  },
  {
   "cell_type": "code",
   "execution_count": 41,
   "id": "3724df80-abe6-4c1c-a1ba-b5afdc2ed1d3",
   "metadata": {},
   "outputs": [
    {
     "name": "stdout",
     "output_type": "stream",
     "text": [
      "The distribution of class obersvations in the training set are: Counter({1: 235, 0: 39}).\n"
     ]
    }
   ],
   "source": [
    "features = ['k_percent','exit_velocity_avg','sweet_spot_percent', 'barrel_batted_rate','solidcontact_percent', 'hard_hit_percent', \n",
    "          'avg_best_speed','avg_hyper_speed',\n",
    "          'whiff_percent', 'swing_percent',\n",
    "          'groundballs_percent', 'flyballs_percent']\n",
    "\n",
    "X_train = c_train_df[features]\n",
    "y_train = c_train_df.Classification\n",
    "print(f'The distribution of class obersvations in the training set are: {Counter(y_train)}.')\n"
   ]
  },
  {
   "cell_type": "code",
   "execution_count": 42,
   "id": "2ef305d6-06e3-4317-8c03-de8b676e88b4",
   "metadata": {},
   "outputs": [],
   "source": [
    "scaler = StandardScaler()\n",
    "X_train = scaler.fit_transform(X_train) # do scaling\n"
   ]
  },
  {
   "cell_type": "code",
   "execution_count": 43,
   "id": "65d42ba0-335a-4c8a-95c8-2d7e67239be1",
   "metadata": {
    "scrolled": true
   },
   "outputs": [
    {
     "data": {
      "text/plain": [
       "Counter({1: 235, 0: 235})"
      ]
     },
     "execution_count": 43,
     "metadata": {},
     "output_type": "execute_result"
    }
   ],
   "source": [
    "ros = RandomOverSampler(random_state=0)\n",
    "\n",
    "# Resample the dataset\n",
    "X_train_resampled, y_train_resampled = ros.fit_resample(X_train, y_train)\n",
    "Counter(y_train_resampled)"
   ]
  },
  {
   "cell_type": "markdown",
   "id": "8a930e1f-91b0-4067-9d94-8d003059d484",
   "metadata": {},
   "source": [
    "Base Model"
   ]
  },
  {
   "cell_type": "code",
   "execution_count": 44,
   "id": "d6126f02-ddba-47a8-b8a7-6d3c71411489",
   "metadata": {},
   "outputs": [
    {
     "name": "stdout",
     "output_type": "stream",
     "text": [
      "The accuracy on the scaled, resampled training data is: 0.779.\n",
      "BASE FULL MODEL: \n",
      " training score accuracy: 0.779 \n",
      " validation accuracy: 0.792 \n",
      " validation precision: 0.837.\n"
     ]
    }
   ],
   "source": [
    "from sklearn.linear_model import LogisticRegression\n",
    "#Fit the LogiticRegression model to the trianing data\n",
    "clf = LogisticRegression()\n",
    "clf.fit(X_train_resampled, y_train_resampled)\n",
    "print(f'The accuracy on the scaled, resampled training data is: {clf.score(X_train_resampled,y_train_resampled):.3}.')\n",
    "\n",
    "\n",
    "\n",
    "X_val = c_val_df[features]\n",
    "X_val = scaler.transform(X_val)\n",
    "y_true_val = c_val_df.Classification\n",
    "\n",
    "#Make predictions on validation data\n",
    "y_hat_val = clf.predict(X_val)\n",
    "\n",
    "# Evaluate performance \n",
    "accuracy = accuracy_score(y_true_val, y_hat_val)\n",
    "precision = precision_score(y_true_val, y_hat_val, average='weighted')\n",
    "print(f'BASE FULL MODEL: \\n training score accuracy: {clf.score(X_train_resampled,y_train_resampled):.3} \\n validation accuracy: {accuracy:.3} \\n validation precision: {precision:.3}.')\n"
   ]
  },
  {
   "cell_type": "markdown",
   "id": "5df47f5d-b6cc-42be-bcf8-09226cecaba2",
   "metadata": {},
   "source": [
    "Grid Search"
   ]
  },
  {
   "cell_type": "code",
   "execution_count": 39,
   "id": "83d7aa6f-c74c-49fd-b51e-6fc4693b2fb6",
   "metadata": {},
   "outputs": [],
   "source": [
    "# parameters = [{'max_iter': [1000, 5000, 10000], 'C': [0.01, 1, 10, 1000], 'penalty': ['l2']}]\n",
    "# model = linear_model.LogisticRegression(multi_class='multinomial')\n",
    "# clf = GridSearchCV(model, parameters)\n",
    "# clf.fit(X_train_resampled, y_train_resampled)\n",
    "\n",
    "# print(f'clf.best_score_={clf.best_score_:.3}, ' +\n",
    "#       f'clf.best_params_={clf.best_params_}')"
   ]
  },
  {
   "cell_type": "markdown",
   "id": "04a8c259-2c82-46da-a8b2-ed0305759975",
   "metadata": {},
   "source": [
    "Evaluate Grid Search Model"
   ]
  },
  {
   "cell_type": "code",
   "execution_count": 38,
   "id": "834190a5-949f-4fa8-8113-4636058a697f",
   "metadata": {},
   "outputs": [],
   "source": [
    "# model = linear_model.LogisticRegression(multi_class = 'multinomial',C=1000,max_iter=1000,penalty='l2')\n",
    "# model.fit(X_train_resampled, y_train_resampled)\n",
    "# model.score(X_train_resampled, y_train_resampled)\n",
    "\n",
    "# print(f'The accuracy of the Grid Search Model on training data is: {model.score(X_train_resampled,y_train_resampled):.3}.')\n",
    "\n",
    "# #defining X_val and y_val \n",
    "# X_val = c_val_df[features]\n",
    "# X_val = scaler.transform(X_val)\n",
    "# y_true_val = c_val_df.Classification\n",
    "\n",
    "# # Make predictions on validation data\n",
    "# y_hat_val = model.predict(X_val)\n",
    "\n",
    "# # Evaluate accuracy\n",
    "# accuracy = accuracy_score(y_true_val, y_hat_val)\n",
    "\n",
    "# # Evaluate precision\n",
    "# precision = precision_score(y_true_val, y_hat_val, average='weighted')\n",
    "# print(f'accuracy: {accuracy:.3}, precision: {precision:.3}.')\n"
   ]
  },
  {
   "cell_type": "markdown",
   "id": "634832d7-a499-426f-8ac9-a7a52b6c1916",
   "metadata": {},
   "source": [
    "Feature Permutation"
   ]
  },
  {
   "cell_type": "code",
   "execution_count": 37,
   "id": "0495cda8-f673-4e7a-931d-3b7dc6d381f3",
   "metadata": {},
   "outputs": [],
   "source": [
    "# import matplotlib.pyplot as plt\n",
    "# from sklearn import linear_model\n",
    "# from sklearn.inspection import permutation_importance\n",
    "# features = ['k_percent','exit_velocity_avg','sweet_spot_percent', 'barrel_batted_rate','solidcontact_percent', 'hard_hit_percent', \n",
    "#           'avg_best_speed','avg_hyper_speed',\n",
    "#           'whiff_percent', 'swing_percent',\n",
    "#           'groundballs_percent', 'flyballs_percent']\n",
    "\n",
    "# model = linear_model.LogisticRegression(multi_class = 'multinomial',C=1000,max_iter=1000,penalty='l2')\n",
    "# model.fit(X_train_resampled, y_train_resampled)\n",
    "\n",
    "\n",
    "\n",
    "\n",
    "# X_val = c_val_df[features]\n",
    "# size = X_val.columns.size\n",
    "# columns = X_val.columns\n",
    "\n",
    "# X_val = scaler.transform(X_val)\n",
    "# y_true_val = c_val_df.Classification\n",
    "# r = permutation_importance(model, X_val, y_true_val, random_state = 0)\n",
    "                      \n",
    "\n",
    "\n",
    "# # model.fit(X_train, y_train)\n",
    "# # X_val = c_val_df[features]\n",
    "# # y_true_val = c_val_df['Classification']\n",
    "# # pi = permutation_importance(model, X_val, y_true_val, random_state=0)\n",
    "\n",
    "# plt.figure(figsize=(8, 6))\n",
    "# plt.bar(x=range(size), height=r.importances_mean, tick_label=columns)\n",
    "# plt.title('Feature Importance for Logistic Regression (Classification)')\n",
    "# plt.xlabel('Feature Name')\n",
    "# plt.ylabel('Reduction in Accuracy on Shuffling Feature')\n",
    "# plt.xticks(rotation=45, ha='right')\n",
    "# plt.tight_layout()\n",
    "# plt.savefig('Feature_importance_LogisticRegression_classification.png')\n",
    "# plt.show()\n",
    "\n",
    "\n"
   ]
  },
  {
   "cell_type": "code",
   "execution_count": 36,
   "id": "548c2373-e51c-41c9-9e0c-94c24368ffbf",
   "metadata": {},
   "outputs": [],
   "source": [
    "# features = ['k_percent', 'barrel_batted_rate', 'hard_hit_percent', 'avg_best_speed','avg_hyper_speed','flyballs_percent']\n",
    "\n",
    "# X_train = c_train_df[features]\n",
    "# y_train = c_train_df.Classification\n",
    "\n",
    "# scaler = StandardScaler()\n",
    "# X_train = scaler.fit_transform(X_train) # do scaling\n",
    "\n",
    "# X_train_resampled, y_train_resampled = ros.fit_resample(X_train, y_train)\n",
    "\n",
    "# model = linear_model.LogisticRegression(multi_class = 'multinomial',C=1000,max_iter=1000,penalty='l2')\n",
    "# model.fit(X_train_resampled, y_train_resampled)\n",
    "\n",
    "# X_val = c_val_df[features]\n",
    "# y_true_val = c_val_df.Classification\n",
    "\n",
    "# X_val = scaler.transform(X_val)\n",
    "\n",
    "# y_hat_val = model.predict(X_val)\n",
    "\n",
    "\n",
    "# # Evaluate accuracy\n",
    "# accuracy = accuracy_score(y_true_val, y_hat_val)\n",
    "\n",
    "# # Evaluate precision\n",
    "# precision = precision_score(y_true_val, y_hat_val, average='weighted')\n",
    "\n",
    "# print(f'Reduced MODEL: \\n training score accuracy: {model.score(X_train_resampled,y_train_resampled):.3} \\n validation accuracy: {accuracy:.3} \\n validation precision: {precision:.3}.')\n"
   ]
  },
  {
   "cell_type": "markdown",
   "id": "e4ed1a4a-5370-4e78-ab01-7f6cfbade400",
   "metadata": {},
   "source": [
    "Testing"
   ]
  },
  {
   "cell_type": "code",
   "execution_count": 46,
   "id": "1163cc22-979e-4c8b-8967-fda9a4dcbfa0",
   "metadata": {},
   "outputs": [
    {
     "data": {
      "text/plain": [
       "12"
      ]
     },
     "execution_count": 46,
     "metadata": {},
     "output_type": "execute_result"
    }
   ],
   "source": [
    "len(features)"
   ]
  },
  {
   "cell_type": "code",
   "execution_count": 61,
   "id": "e95aa238-8a01-4bf4-9ab6-0280d70187a4",
   "metadata": {},
   "outputs": [
    {
     "name": "stdout",
     "output_type": "stream",
     "text": [
      "Test accuracy: 0.806, Test precision: 0.885.\n"
     ]
    },
    {
     "data": {
      "image/png": "[encoded data removed]",
      "text/plain": [
       "<Figure size 640x480 with 2 Axes>"
      ]
     },
     "metadata": {},
     "output_type": "display_data"
    }
   ],
   "source": [
    "features = ['k_percent','exit_velocity_avg','sweet_spot_percent', 'barrel_batted_rate','solidcontact_percent', 'hard_hit_percent', \n",
    "          'avg_best_speed','avg_hyper_speed',\n",
    "          'whiff_percent', 'swing_percent',\n",
    "          'groundballs_percent', 'flyballs_percent']\n",
    "\n",
    "X_test = c_test_df[features]\n",
    "X_test_scaled = scaler.transform(X_test)\n",
    "y_true_test = c_test_df['Classification']\n",
    "\n",
    "clf = LogisticRegression()\n",
    "clf.fit(X_train_resampled, y_train_resampled)\n",
    "\n",
    "y_hat_test = clf.predict(X_test_scaled)\n",
    "\n",
    "test_accuracy = accuracy_score(y_true_test, y_hat_test)\n",
    "test_precision = precision_score(y_true_test, y_hat_test, average='weighted')\n",
    "\n",
    "print(f'Test accuracy: {test_accuracy:.3f}, Test precision: {test_precision:.3f}.')\n",
    "\n",
    "cm = confusion_matrix(y_true_test, y_hat_test, labels=clf.classes_)\n",
    "disp = ConfusionMatrixDisplay(confusion_matrix=cm, display_labels=clf.classes_)\n",
    "disp.plot()\n",
    "plt.title('Confusion Matrix for 2023 Test Data')\n",
    "plt.savefig('Confusion Matrix For 20203 Test Data.png')\n",
    "plt.show()"
   ]
  },
  {
   "cell_type": "code",
   "execution_count": 92,
   "id": "09d293af-6b14-4807-9cbe-aab59320d72d",
   "metadata": {},
   "outputs": [
    {
     "name": "stdout",
     "output_type": "stream",
     "text": [
      "Classification Report:\n",
      "              precision    recall  f1-score   support\n",
      "\n",
      "           0       0.37      0.76      0.50        17\n",
      "           1       0.96      0.81      0.88       117\n",
      "\n",
      "    accuracy                           0.81       134\n",
      "   macro avg       0.67      0.79      0.69       134\n",
      "weighted avg       0.88      0.81      0.83       134\n",
      "\n"
     ]
    },
    {
     "data": {
      "image/png": "[encoded data removed]",
      "text/plain": [
       "<Figure size 640x480 with 1 Axes>"
      ]
     },
     "metadata": {},
     "output_type": "display_data"
    }
   ],
   "source": [
    "from sklearn.metrics import classification_report, roc_curve, auc\n",
    "\n",
    "# Classification report\n",
    "print(\"Classification Report:\")\n",
    "print(classification_report(y_true_test, y_hat_test))\n",
    "\n",
    "# ROC curve (if applicable)\n",
    "if len(clf.classes_) == 2:  # Binary classification\n",
    "    # Compute ROC curve and AUC for positive class\n",
    "    fpr, tpr, _ = roc_curve(y_true_test, clf.predict_proba(X_test_scaled)[:, 1])\n",
    "    roc_auc = auc(fpr, tpr)\n",
    "    \n",
    "    # Plot ROC curve\n",
    "    plt.figure()\n",
    "    plt.plot(fpr, tpr, color='blue', lw=2, label=f'ROC curve (AUC = {roc_auc:.2f})')\n",
    "    plt.plot([0, 1], [0, 1], color='gray', linestyle='--')\n",
    "    plt.xlim([0.0, 1.0])\n",
    "    plt.ylim([0.0, 1.05])\n",
    "    plt.xlabel('False Positive Rate')\n",
    "    plt.ylabel('True Positive Rate')\n",
    "    plt.title('Receiver Operating Characteristic (ROC) Curve')\n",
    "    plt.legend(loc='lower right')\n",
    "    plt.savefig('ROC Curve.png')\n",
    "    plt.show()\n"
   ]
  },
  {
   "cell_type": "code",
   "execution_count": 91,
   "id": "4508d177-442a-491e-963a-e2830b1141a8",
   "metadata": {},
   "outputs": [
    {
     "name": "stdout",
     "output_type": "stream",
     "text": [
      "predicted = [1 1 0 1 0 1 0 0 1 1].\n"
     ]
    },
    {
     "data": {
      "text/plain": [
       "10    0.840\n",
       "11    0.658\n",
       "12    0.605\n",
       "13    0.680\n",
       "14    0.694\n",
       "15    0.883\n",
       "16    0.606\n",
       "17    0.630\n",
       "18    0.763\n",
       "19    0.769\n",
       "Name: on_base_plus_slg, dtype: float64"
      ]
     },
     "execution_count": 91,
     "metadata": {},
     "output_type": "execute_result"
    }
   ],
   "source": [
    "row_data = raw_df.iloc[10:20,].copy()\n",
    "row_data \n",
    "fun = pd.DataFrame(row_data)\n",
    "fun\n",
    "features = ['k_percent','exit_velocity_avg','sweet_spot_percent', 'barrel_batted_rate','solidcontact_percent', 'hard_hit_percent', \n",
    "          'avg_best_speed','avg_hyper_speed',\n",
    "          'whiff_percent', 'swing_percent',\n",
    "          'groundballs_percent', 'flyballs_percent']\n",
    "\n",
    "x = scaler.transform(fun[features])\n",
    "clf.predict(x)\n",
    "print(f'predicted = {clf.predict(x)}.')\n",
    "# print(f'\\nactual =  \\n{row_data.on_base_plus_slg}.')\n",
    "\n",
    "# # fun = fun[features]\n",
    "# # fun_numeric = fun.apply(pd.to_numeric)\n",
    "\n",
    "\n",
    "# # X_fun = fun_numeric[xfeatures]\n",
    "\n",
    "fun['on_base_plus_slg']\n",
    "\n",
    "\n",
    "# # prediction = model.predict(X_fun)\n",
    "# # predicted_obps = prediction[0] \n",
    "\n",
    "\n",
    "# # actual_obps = fun_numeric['on_base_plus_slg'].iloc[0]\n",
    "\n",
    "# # print(f'The predicted obps is {predicted_obps:.3} and the actual obps is {actual_obps}.')"
   ]
  }
 ],
 "metadata": {
  "kernelspec": {
   "display_name": "Python 3 (ipykernel)",
   "language": "python",
   "name": "python3"
  },
  "language_info": {
   "codemirror_mode": {
    "name": "ipython",
    "version": 3
   },
   "file_extension": ".py",
   "mimetype": "text/x-python",
   "name": "python",
   "nbconvert_exporter": "python",
   "pygments_lexer": "ipython3",
   "version": "3.11.5"
  }
 },
 "nbformat": 4,
 "nbformat_minor": 5
}
