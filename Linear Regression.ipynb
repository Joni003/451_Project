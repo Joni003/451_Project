{
 "cells": [
  {
   "cell_type": "code",
   "execution_count": 1,
   "id": "42d092bd-5f07-460e-b0c2-5fd76d461997",
   "metadata": {},
   "outputs": [],
   "source": [
    "import pandas as pd \n",
    "import numpy as np\n",
    "import matplotlib.pyplot as plt\n",
    "from sklearn import linear_model\n",
    "import seaborn as sns\n",
    "import matplotlib.pyplot as plt\n",
    "from sklearn.preprocessing import LabelEncoder\n",
    "from sklearn.linear_model import LinearRegression\n",
    "from sklearn.metrics import mean_absolute_error,mean_squared_error\n",
    "from sklearn.inspection import permutation_importance"
   ]
  },
  {
   "cell_type": "code",
   "execution_count": null,
   "id": "5e01e4f4-ace6-4fc8-aa76-0afb9bd4d344",
   "metadata": {},
   "outputs": [],
   "source": [
    "raw_df = pd.read_csv('stats.csv')"
   ]
  },
  {
   "cell_type": "code",
   "execution_count": null,
   "id": "65bffc58-8d46-4009-88fb-6b56fef8eb43",
   "metadata": {},
   "outputs": [],
   "source": [
    "df = raw_df.copy()\n",
    "df.drop('last_name, first_name',axis = 1,inplace=True)\n",
    "df.drop('player_id',axis = 1,inplace=True)"
   ]
  },
  {
   "cell_type": "code",
   "execution_count": null,
   "id": "80889645-25b2-4ff8-81ba-5bc28f2b1d56",
   "metadata": {},
   "outputs": [],
   "source": [
    "train_df = df[(df['year'] == 2021) | (df['year'] == 2020)]\n",
    "val_df = df[df.year==2022]\n",
    "test_df = df[df.year==2023]"
   ]
  },
  {
   "cell_type": "markdown",
   "id": "f55a42ff-f888-47af-8d62-ec8664c3c3c1",
   "metadata": {},
   "source": [
    "## Linear Regression Training / Validation \n",
    "#### all features"
   ]
  },
  {
   "cell_type": "code",
   "execution_count": 4,
   "id": "64065a01-8e84-4e16-9b94-4a06e012d07d",
   "metadata": {},
   "outputs": [],
   "source": [
    "####TRAINING\n",
    "features = ['pa', 'hit', 'single', 'double', 'triple','home_run', 'k_percent', 'bb_percent',\n",
    "      'exit_velocity_avg',\n",
    "      'sweet_spot_percent', 'barrel_batted_rate',\n",
    "      'solidcontact_percent', 'hard_hit_percent', \n",
    "      'avg_best_speed','avg_hyper_speed',\n",
    "      'whiff_percent', 'swing_percent',\n",
    "      'groundballs_percent', 'flyballs_percent']\n",
    "\n",
    "X_train = train_df[features]\n",
    "y_train = train_df['on_base_plus_slg']\n",
    "\n",
    "model = linear_model.LinearRegression()\n",
    "model.fit(X_train, y_train)\n",
    "b = model.intercept_\n",
    "w = model.coef_[0]\n",
    "print(f'TRAINING:::intercept={b:.3}, slope={w:.3}')\n",
    "print(f'Accuracy on Training Data R^2= {model.score(X_train,y_train):.3}')"
   ]
  },
  {
   "cell_type": "code",
   "execution_count": null,
   "id": "c13fd690-d53b-4e30-b619-0fd5d94a4c92",
   "metadata": {},
   "outputs": [],
   "source": [
    "####VALIDATION\n",
    "X_val = val_df[features]\n",
    "y_val = val_df['on_base_plus_slg']\n",
    "\n",
    "validation_predictions = model.predict(X_val)\n",
    "MAE_val = mean_absolute_error(y_val,validation_predictions)\n",
    "MSE_val = mean_squared_error(y_val,validation_predictions)\n",
    "RMSE_val = np.sqrt(MSE_val)\n",
    "\n",
    "print(\"MAE_val: %f\" % (MAE_val))\n",
    "print(\"RMSE_val: %f\" % (RMSE_val))"
   ]
  },
  {
   "cell_type": "markdown",
   "id": "96551ec2-dcd8-4c7f-bf20-93ccbc960c85",
   "metadata": {},
   "source": [
    "## PERMUTATION FEATURE IMPORTANCE ON LINEAR REGRESSION MODEL\n",
    "##### THERE ARE MANY FEATURES AND ALL OF THEM HAVE VERY SMALL WEIGHTS (COEF VALUES) SO I AM GOING TO PERFORM PERMUTATION IMPORTANCE\n",
    "##### PERMUTATION IMPORTANCE::::evalutates the contributions of each feature to a fitted model "
   ]
  },
  {
   "cell_type": "code",
   "execution_count": null,
   "id": "98890571-0f8b-4633-896c-22d614752b30",
   "metadata": {},
   "outputs": [],
   "source": [
    "\n",
    "X_feat_importance = val_df[features]\n",
    "y_feat_importance = val_df['on_base_plus_slg']\n",
    "model = linear_model.LinearRegression()\n",
    "model.fit(X_feat_importance, y_feat_importance)\n",
    "pi = permutation_importance(estimator=model, X=X_feat_importance, y=y_feat_importance, random_state=0)\n",
    "print(f'pi.importances_mean={pi.importances_mean}')\n",
    "print(f'pi.importances_std={pi.importances_std}')\n",
    "print(f'pi.importances={pi.importances}')\n",
    "plt.bar(x=range(X_feat_importance.columns.size), height=pi.importances_mean, tick_label=X_feat_importance.columns)\n",
    "plt.title('Feature importance for LinearRegression, on_base_plus_slg vs. rest of MLB')\n",
    "plt.xlabel('feature name')\n",
    "plt.xticks(rotation=45)\n",
    "_ = plt.ylabel(r'reduction in $R^2$ on shuffling feature')"
   ]
  },
  {
   "cell_type": "markdown",
   "id": "ef67a099-922b-413b-b5c5-972e323de27a",
   "metadata": {},
   "source": [
    "### ANALYZING SUBSETS OF THE MOST IMPORTANT FEATURES\n"
   ]
  },
  {
   "cell_type": "markdown",
   "id": "3600b5af-da63-48b9-a36b-ec731ac1650a",
   "metadata": {},
   "source": [
    "#### 1) features: pa, hit, home_run, bb_percent"
   ]
  },
  {
   "cell_type": "code",
   "execution_count": null,
   "id": "00395cf7-3ce5-4f82-8878-1dec4a807cf7",
   "metadata": {},
   "outputs": [],
   "source": [
    "\n",
    "X_train = train_df[['pa','hit','home_run','bb_percent']]\n",
    "y_train = train_df['on_base_plus_slg']\n",
    "model = linear_model.LinearRegression()\n",
    "model.fit(X_train,y_train)\n",
    "print(f'The accuracy on the training data is = {model.score(X_train,y_train):.3}.')\n",
    "\n",
    "X_val = val_df[['pa','hit','home_run','bb_percent']]\n",
    "y_val = val_df['on_base_plus_slg']\n",
    "validation_predictions = model.predict(X_val)\n",
    "MAE_val = mean_absolute_error(y_val,validation_predictions)\n",
    "MSE_val = mean_squared_error(y_val,validation_predictions)\n",
    "RMSE_val = np.sqrt(MSE_val)\n",
    "\n",
    "print(\"MAE_val: %f\" % (MAE_val))\n",
    "print(\"RMSE_val: %f\" % (RMSE_val))"
   ]
  },
  {
   "cell_type": "markdown",
   "id": "8a37d3fa-82e8-4e4b-9fd1-16d6dd247ff7",
   "metadata": {},
   "source": [
    "#### 2) features: pa, single, double, triple, home_run, bb_percent\n",
    "##### changing hit--> single,double,triple"
   ]
  },
  {
   "cell_type": "code",
   "execution_count": null,
   "id": "9635b022-d33e-468d-bd4e-72c8190e6c3e",
   "metadata": {},
   "outputs": [],
   "source": [
    "features = ['pa','single','double','triple','home_run','bb_percent']\n",
    "X_train = train_df[features]\n",
    "y_train = train_df['on_base_plus_slg']\n",
    "model = linear_model.LinearRegression()\n",
    "model.fit(X_train,y_train)\n",
    "print(f'The accuracy on the training data is = {model.score(X_train,y_train):.3}.')\n",
    "\n",
    "X_val = val_df[features]\n",
    "y_val = val_df['on_base_plus_slg']\n",
    "validation_predictions = model.predict(X_val)\n",
    "MAE_val = mean_absolute_error(y_val,validation_predictions)\n",
    "MSE_val = mean_squared_error(y_val,validation_predictions)\n",
    "RMSE_val = np.sqrt(MSE_val)\n",
    "\n",
    "print(\"MAE_val: %f\" % (MAE_val))\n",
    "print(\"RMSE_val: %f\" % (RMSE_val))"
   ]
  },
  {
   "cell_type": "markdown",
   "id": "7f7f2675-0123-485d-8d32-af46c7713a28",
   "metadata": {},
   "source": [
    "## Testing Linear Regression on the subset or best model???\n"
   ]
  },
  {
   "cell_type": "code",
   "execution_count": null,
   "id": "4df2f29c-8bd9-4e1d-ac2a-c066cee47cfb",
   "metadata": {},
   "outputs": [],
   "source": []
  }
 ],
 "metadata": {
  "kernelspec": {
   "display_name": "Python 3 (ipykernel)",
   "language": "python",
   "name": "python3"
  },
  "language_info": {
   "codemirror_mode": {
    "name": "ipython",
    "version": 3
   },
   "file_extension": ".py",
   "mimetype": "text/x-python",
   "name": "python",
   "nbconvert_exporter": "python",
   "pygments_lexer": "ipython3",
   "version": "3.11.5"
  }
 },
 "nbformat": 4,
 "nbformat_minor": 5
}
