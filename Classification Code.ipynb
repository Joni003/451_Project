{
 "cells": [
  {
   "cell_type": "code",
   "execution_count": 1,
   "id": "a216fd2c-22cd-480d-acfc-1ce25fb513cb",
   "metadata": {},
   "outputs": [],
   "source": [
    "import pandas as pd \n",
    "import numpy as np\n",
    "import matplotlib.pyplot as plt\n",
    "from sklearn import linear_model\n",
    "import seaborn as sns\n",
    "import matplotlib.pyplot as plt\n",
    "from sklearn.preprocessing import LabelEncoder\n",
    "from sklearn.linear_model import LinearRegression\n",
    "from sklearn.metrics import mean_absolute_error,mean_squared_error\n",
    "from sklearn.inspection import permutation_importance"
   ]
  },
  {
   "cell_type": "code",
   "execution_count": null,
   "id": "c9c04e67-d782-4fc5-8bc5-147c19f887d8",
   "metadata": {},
   "outputs": [],
   "source": [
    "raw_df = pd.read_csv('stats.csv')"
   ]
  },
  {
   "cell_type": "code",
   "execution_count": null,
   "id": "9ff4e9fa-0581-459d-a361-b64d0ed5bc71",
   "metadata": {},
   "outputs": [],
   "source": [
    "df = raw_df.copy()\n",
    "df.drop('last_name, first_name',axis = 1,inplace=True)\n",
    "df.drop('player_id',axis = 1,inplace=True)"
   ]
  },
  {
   "cell_type": "code",
   "execution_count": null,
   "id": "4b420d00-0b5f-407a-88a0-a338b1ff1864",
   "metadata": {},
   "outputs": [],
   "source": []
  },
  {
   "cell_type": "markdown",
   "id": "e5578935-bda4-4fed-bb83-8220ecddd537",
   "metadata": {},
   "source": [
    "CREATING A CLASSIFICATION PROBLEM \n",
    "BINNING OBPS \n",
    "An OPS scale\n",
    "\n",
    "According to https://en.wikipedia.org/wiki/On-base_plus_slugging\n",
    "\"Bill James, in his essay titled \"The 96 Families of Hitters\"[4] uses seven different categories for classification by OPS:\n",
    "\n",
    "| Category | Classification\t| OPS range       |\n",
    "|----------|----------------|-----------------|\n",
    "|A         |\tGreat\t    |.9000 and higher |\n",
    "|B         |\tVery good\t|.8334 to .8999   |\n",
    "|C         |Above average   |.7667 to .8333   |\n",
    "|D         |\tAverage\t    | .7000 to .7666  |\n",
    "|E         |Below average\t|.6334 to .6999   |\n",
    "|F         |\tPoor\t    |.5667 to .6333   |\n",
    "|G         |\tVery poor   |.5666 and lower  |\n",
    "\n",
    "\n",
    "\n",
    "\n",
    "I have created a scale such that we are classifying below, average and above average hitters based on their ops\n",
    "The categories for classification by OPS I have created: \n",
    "\n",
    "\n",
    "| Category | Classification\t| OPS range       |\n",
    "|----------|----------------|-----------------|\n",
    "|   1      |Above average   |.7667 and higher |\n",
    "|0         |\tAverage\t    | .7000 to .7666  |\n",
    "|-1        |Below average\t|.6999  and lower |\n"
   ]
  },
  {
   "cell_type": "code",
   "execution_count": null,
   "id": "41bdcfd5-45c6-4f8e-9103-c6c80ff6578f",
   "metadata": {},
   "outputs": [],
   "source": [
    "#new dataset for classification\n",
    "c_df = df.copy()\n",
    "\n",
    "# Define the OPS ranges and corresponding classifications\n",
    "ops_ranges = {\n",
    "    1: (0.7667, float('inf')),\n",
    "    0: (0.7000, 0.7666),\n",
    "    -1: (-float('inf'), 0.6999)\n",
    "}\n",
    "\n",
    "# Create an empty list to store the classifications\n",
    "classifications = []\n",
    "\n",
    "# Iterate over each OPS value in your dataset\n",
    "for ops_value in c_df['on_base_plus_slg']:\n",
    "    # Iterate over each classification and its corresponding OPS range\n",
    "    for classification, (lower_bound, upper_bound) in ops_ranges.items():\n",
    "        # Check if the OPS value falls within the current classification's range\n",
    "        if lower_bound <= ops_value < upper_bound:\n",
    "            # If it does, append the classification to the list\n",
    "            classifications.append(classification)\n",
    "            # Break out of the inner loop since we found the correct classification\n",
    "            break\n",
    "    else:\n",
    "        # If the OPS value didn't fall within any range, append a default value\n",
    "        classifications.append('Unknown')\n",
    "\n",
    "# Add the classifications to your dataset as a new column\n",
    "c_df['Classification'] = classifications\n",
    "\n",
    "\n",
    "\n",
    "#double checking that there are no missing or duplicated values for saftey \n",
    "\n",
    "if c_df.isna().any().any():\n",
    "    print(\"There are missing values in the classification dataframe c_df.\")\n",
    "else:\n",
    "    print(\"There are no missing values in the classification dataframe c_df\")\n",
    "\n",
    "if c_df.duplicated().any().any():\n",
    "    print(\"There are duplicated values in the classification dataframe c_df.\")\n",
    "else:\n",
    "    print(\"There are no duplicated values in the classification dataframe c_df\")\n"
   ]
  },
  {
   "cell_type": "code",
   "execution_count": null,
   "id": "e006fc6b-17e6-405a-b5d8-b57463f8d153",
   "metadata": {},
   "outputs": [],
   "source": [
    "#train test split datasets\n",
    "\n",
    "c_train_df = c_df[(c_df['year'] == 2021) | (c_df['year'] == 2020)]\n",
    "c_val_df = c_df[c_df.year==2022]\n",
    "c_test_df = c_df[c_df.year==2023]"
   ]
  }
 ],
 "metadata": {
  "kernelspec": {
   "display_name": "Python 3 (ipykernel)",
   "language": "python",
   "name": "python3"
  },
  "language_info": {
   "codemirror_mode": {
    "name": "ipython",
    "version": 3
   },
   "file_extension": ".py",
   "mimetype": "text/x-python",
   "name": "python",
   "nbconvert_exporter": "python",
   "pygments_lexer": "ipython3",
   "version": "3.11.5"
  }
 },
 "nbformat": 4,
 "nbformat_minor": 5
}
