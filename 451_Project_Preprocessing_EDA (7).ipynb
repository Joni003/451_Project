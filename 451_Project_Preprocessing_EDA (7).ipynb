{
 "cells": [
  {
   "cell_type": "code",
   "execution_count": 170,
   "id": "33b008fc-2298-448c-8c5e-e557d9f1073f",
   "metadata": {},
   "outputs": [],
   "source": [
    "import pandas as pd \n",
    "import numpy as np\n",
    "import matplotlib.pyplot as plt\n",
    "from sklearn import linear_model\n",
    "import seaborn as sns\n",
    "import matplotlib.pyplot as plt\n",
    "from sklearn.preprocessing import LabelEncoder\n",
    "from sklearn.linear_model import LinearRegression\n",
    "from sklearn.metrics import mean_absolute_error,mean_squared_error\n",
    "from sklearn.inspection import permutation_importance"
   ]
  },
  {
   "cell_type": "code",
   "execution_count": 171,
   "id": "25ba630d-bdca-40cc-918e-34f5a1fbfd6c",
   "metadata": {},
   "outputs": [],
   "source": [
    "#load dataset into dataframe raw_df\n",
    "raw_df = pd.read_csv('stats.csv')\n",
    "#raw_df.head(n=-5)"
   ]
  },
  {
   "cell_type": "code",
   "execution_count": 172,
   "id": "1fff23dc-d157-4e2c-ab7e-51066fe42181",
   "metadata": {},
   "outputs": [
    {
     "name": "stdout",
     "output_type": "stream",
     "text": [
      "The raw dataset consists of 538 observations on 23 features.\n",
      "\n",
      "Those features are: \n",
      "\n",
      "last_name, first_name\n",
      "player_id\n",
      "year\n",
      "pa\n",
      "hit\n",
      "single\n",
      "double\n",
      "triple\n",
      "home_run\n",
      "k_percent\n",
      "bb_percent\n",
      "on_base_plus_slg\n",
      "exit_velocity_avg\n",
      "sweet_spot_percent\n",
      "barrel_batted_rate\n",
      "solidcontact_percent\n",
      "hard_hit_percent\n",
      "avg_best_speed\n",
      "avg_hyper_speed\n",
      "whiff_percent\n",
      "swing_percent\n",
      "groundballs_percent\n",
      "flyballs_percent\n",
      "\n",
      " Feature of interest: on_base_plus_slg\n"
     ]
    }
   ],
   "source": [
    "print(f'The raw dataset consists of {len(raw_df)} observations on {(len(raw_df.columns))} features.\\n')\n",
    "print(f'Those features are: \\n')\n",
    "    \n",
    "for column in raw_df.columns:\n",
    "    print(column)\n",
    "\n",
    "print(f'\\n Feature of interest: on_base_plus_slg')"
   ]
  },
  {
   "cell_type": "code",
   "execution_count": null,
   "id": "286776b1-d364-4e86-9dd8-9df17b6722d0",
   "metadata": {},
   "outputs": [],
   "source": [
    "####PREFORM EDA ON RAW_DF"
   ]
  },
  {
   "cell_type": "code",
   "execution_count": null,
   "id": "a17655b4-227b-483e-a066-099bb2fc5d00",
   "metadata": {},
   "outputs": [],
   "source": [
    "# #Getting a general idea of how highly correlated features are to see if we need to consider feature engineering or a different means to deal with them\n",
    "# correlation_matrix = df.corr()\n",
    "\n",
    "# # Define threshold\n",
    "# threshold = 0.7  # Adjust the threshold as needed\n",
    "\n",
    "# # Filter correlation matrix to find highly correlated pairs\n",
    "# highly_correlated_pairs = []\n",
    "# for i in range(len(correlation_matrix.columns)):\n",
    "#     for j in range(i+1, len(correlation_matrix.columns)):\n",
    "#         if abs(correlation_matrix.iloc[i, j]) > threshold:\n",
    "#             highly_correlated_pairs.append((correlation_matrix.columns[i], correlation_matrix.columns[j], correlation_matrix.iloc[i, j]))\n",
    "\n",
    "# # Display highly correlated pairs\n",
    "# print(\"Pairs of variables with correlation greater than\", threshold, \":\")\n",
    "# for pair in highly_correlated_pairs:\n",
    "#     print(pair)"
   ]
  },
  {
   "cell_type": "code",
   "execution_count": 173,
   "id": "5d8953fa-2923-496a-b1cd-a664822f4989",
   "metadata": {},
   "outputs": [],
   "source": [
    "#new dataframe for cleaning and pre-processing \n",
    "df = raw_df.copy()\n",
    "#df.head(n=5)"
   ]
  },
  {
   "cell_type": "code",
   "execution_count": 174,
   "id": "dba2d6d9-4a60-4a71-9259-00f3953dabf7",
   "metadata": {},
   "outputs": [
    {
     "name": "stdout",
     "output_type": "stream",
     "text": [
      "\n",
      " Checking for missing (Na) values: \n",
      " \n",
      "last_name, first_name    0\n",
      "player_id                0\n",
      "year                     0\n",
      "pa                       0\n",
      "hit                      0\n",
      "single                   0\n",
      "double                   0\n",
      "triple                   0\n",
      "home_run                 0\n",
      "k_percent                0\n",
      "bb_percent               0\n",
      "on_base_plus_slg         0\n",
      "exit_velocity_avg        0\n",
      "sweet_spot_percent       0\n",
      "barrel_batted_rate       0\n",
      "solidcontact_percent     0\n",
      "hard_hit_percent         0\n",
      "avg_best_speed           0\n",
      "avg_hyper_speed          0\n",
      "whiff_percent            0\n",
      "swing_percent            0\n",
      "groundballs_percent      0\n",
      "flyballs_percent         0\n",
      "dtype: int64\n",
      "\n",
      " Checking for duplicated values: \n",
      " \n",
      "0\n"
     ]
    }
   ],
   "source": [
    "print(f'\\n Checking for missing (Na) values: \\n ')\n",
    "print(f'{df.isna().sum()}')\n",
    "print(f'\\n Checking for duplicated values: \\n ')\n",
    "print(f'{df.duplicated().sum()}')"
   ]
  },
  {
   "cell_type": "code",
   "execution_count": 175,
   "id": "bd524bf4-1106-4a6a-a327-43191c4a5e58",
   "metadata": {},
   "outputs": [],
   "source": [
    "#Dropping the name column --> not numeric or of interes\n",
    "#Dropping the player_id column--> not numeric or of interest \n",
    "df.drop('last_name, first_name',axis = 1,inplace=True)\n",
    "df.drop('player_id',axis = 1,inplace=True)\n",
    "#df.head(n=1)"
   ]
  },
  {
   "cell_type": "code",
   "execution_count": 176,
   "id": "e2e6b556-b7c8-4fcc-854a-e285c1ccd631",
   "metadata": {},
   "outputs": [
    {
     "name": "stdout",
     "output_type": "stream",
     "text": [
      "Now there are 538 observations on 21 features.\n",
      "\n",
      "Those features are: \n",
      "\n",
      "last_name, first_name\n",
      "player_id\n",
      "year\n",
      "pa\n",
      "hit\n",
      "single\n",
      "double\n",
      "triple\n",
      "home_run\n",
      "k_percent\n",
      "bb_percent\n",
      "on_base_plus_slg\n",
      "exit_velocity_avg\n",
      "sweet_spot_percent\n",
      "barrel_batted_rate\n",
      "solidcontact_percent\n",
      "hard_hit_percent\n",
      "avg_best_speed\n",
      "avg_hyper_speed\n",
      "whiff_percent\n",
      "swing_percent\n",
      "groundballs_percent\n",
      "flyballs_percent\n",
      "\n",
      " Feature of interest: on_base_plus_slg\n"
     ]
    }
   ],
   "source": [
    "print(f'Now there are {len(df)} observations on {(len(df.columns))} features.\\n')\n",
    "print(f'Those features are: \\n')\n",
    "    \n",
    "for column in raw_df.columns:\n",
    "    print(column)\n",
    "\n",
    "print(f'\\n Feature of interest: on_base_plus_slg')"
   ]
  },
  {
   "cell_type": "code",
   "execution_count": 177,
   "id": "54ffa91b-d43e-4687-b724-0a3d724c8064",
   "metadata": {},
   "outputs": [],
   "source": [
    "#Splitting dataframe df into 3 different datasets: train_df, val_df, test_df\n",
    "#There were 4 years (2020,2021,2022,2023) contained in the dataset df so a natural train,val,test split is on the years \n",
    "\n",
    "\n",
    "train_df = df[(df['year'] == 2021) | (df['year'] == 2020)]\n",
    "val_df = df[df.year==2022]\n",
    "test_df = df[df.year==2023]"
   ]
  },
  {
   "cell_type": "code",
   "execution_count": 178,
   "id": "a27454de-2704-4cdd-9086-3b176b260053",
   "metadata": {},
   "outputs": [
    {
     "name": "stdout",
     "output_type": "stream",
     "text": [
      "In the original dataset there are 538 observations.\n",
      "\n",
      " There are 274 observations in the train dataset which consists of data from the years 2020 and 2021.\n",
      "\n",
      " There are 130 observations in the val dataset which consists of data from the year 2022.\n",
      "\n",
      " There are 134 observations in the test dataset which consists of data from the year 2023.\n"
     ]
    }
   ],
   "source": [
    "n_2020= len(df[df['year']==2020]) \n",
    "n_2021= len(df[df['year']==2021])\n",
    "n_2022= len(df[df['year']==2022])\n",
    "n_2023= len(df[df['year']==2023])\n",
    "\n",
    "print(f'In the original dataset there are {len(df)} observations.')\n",
    "print(f'\\n There are {n_2020 + n_2021} observations in the train dataset which consists of data from the years 2020 and 2021.')\n",
    "print(f'\\n There are {n_2022} observations in the val dataset which consists of data from the year 2022.')\n",
    "print(f'\\n There are {n_2023} observations in the test dataset which consists of data from the year 2023.')\n",
    "\n"
   ]
  },
  {
   "cell_type": "code",
   "execution_count": null,
   "id": "3b71ba64-b60a-4dae-8faa-2e7a2ac37a2a",
   "metadata": {},
   "outputs": [],
   "source": [
    "###LINEAR REGRESSION MODEL PRE-LIM"
   ]
  },
  {
   "cell_type": "code",
   "execution_count": 179,
   "id": "7115fc1e-2046-4e69-88a0-8631711ea86d",
   "metadata": {},
   "outputs": [],
   "source": [
    "features = ['pa', 'hit', 'single', 'double', 'triple','home_run', 'k_percent', 'bb_percent',\n",
    "      'exit_velocity_avg',\n",
    "      'sweet_spot_percent', 'barrel_batted_rate',\n",
    "      'solidcontact_percent', 'hard_hit_percent', \n",
    "      'avg_best_speed','avg_hyper_speed',\n",
    "      'whiff_percent', 'swing_percent',\n",
    "      'groundballs_percent', 'flyballs_percent']\n",
    "X_train = train_df[features]\n",
    "y_train = train_df['on_base_plus_slg']"
   ]
  },
  {
   "cell_type": "code",
   "execution_count": 180,
   "id": "7dbb8a54-b8e5-4e38-8aba-56a000c799be",
   "metadata": {},
   "outputs": [
    {
     "name": "stdout",
     "output_type": "stream",
     "text": [
      "TRAINING:::intercept=1.78, slope=-0.00124\n",
      "Accuracy on Training Data R^2= 0.857\n"
     ]
    }
   ],
   "source": [
    "###LINEAR REGRESSION TRAINNING\n",
    "model = linear_model.LinearRegression()\n",
    "model.fit(X_train, y_train)\n",
    "b = model.intercept_\n",
    "w = model.coef_[0]\n",
    "print(f'TRAINING:::intercept={b:.3}, slope={w:.3}')\n",
    "print(f'Accuracy on Training Data R^2= {model.score(X_train,y_train):.3}')\n"
   ]
  },
  {
   "cell_type": "code",
   "execution_count": 181,
   "id": "e2d70587-5074-441e-a0f7-a9cd1db9246a",
   "metadata": {},
   "outputs": [],
   "source": [
    "####VALIDATION\n",
    "X_val = val_df[features]\n",
    "y_val = val_df['on_base_plus_slg']"
   ]
  },
  {
   "cell_type": "code",
   "execution_count": 182,
   "id": "c0de9a23-9d86-4d38-a00d-cef6ce2b79e0",
   "metadata": {},
   "outputs": [
    {
     "name": "stdout",
     "output_type": "stream",
     "text": [
      "MAE_val: 0.024114\n",
      "RMSE_val: 0.029595\n"
     ]
    }
   ],
   "source": [
    "validation_predictions = model.predict(X_val)\n",
    "MAE_val = mean_absolute_error(y_val,validation_predictions)\n",
    "MSE_val = mean_squared_error(y_val,validation_predictions)\n",
    "RMSE_val = np.sqrt(MSE_val)\n",
    "\n",
    "print(\"MAE_val: %f\" % (MAE_val))\n",
    "print(\"RMSE_val: %f\" % (RMSE_val))"
   ]
  },
  {
   "cell_type": "code",
   "execution_count": null,
   "id": "b7c3a72e-8736-478d-b665-97855d85a896",
   "metadata": {},
   "outputs": [],
   "source": [
    "model.coef_"
   ]
  },
  {
   "cell_type": "code",
   "execution_count": null,
   "id": "fef0b93b-3dbd-4056-a99f-a064426426a4",
   "metadata": {},
   "outputs": [],
   "source": [
    "####PERMUTATION FEATURE IMPORTANCE ON LINEAR REGRESSION MODEL\n",
    "# THERE ARE MANY FEATURES AND ALL OF THEM HAVE VERY SMALL WEIGHTS (COEF VALUES) SO I AM GOING TO PERFORM PERMUTATION IMPORTANCE\n",
    "# PERMUTATION IMPORTANCE::::evalutates the contributions of each feature to a fitted model "
   ]
  },
  {
   "cell_type": "code",
   "execution_count": 183,
   "id": "c746c607-9426-48c5-922c-587f277b799f",
   "metadata": {},
   "outputs": [
    {
     "name": "stdout",
     "output_type": "stream",
     "text": [
      "pi.importances_mean=[1.13555218e+00 4.20713553e+00 3.62192471e-01 9.39212964e-08\n",
      " 8.03251934e-03 4.83851829e-01 1.21028182e-02 3.71597897e-01\n",
      " 5.98446112e-02 1.05037450e-03 3.77125228e-04 3.63301434e-04\n",
      " 2.62495449e-03 8.34737569e-02 1.64274154e-01 8.11241313e-03\n",
      " 7.24506597e-03 6.27026426e-03 1.08881707e-03]\n",
      "pi.importances_std=[8.73269548e-02 3.30416756e-01 1.97919587e-02 1.82250255e-04\n",
      " 1.28926661e-03 2.20262318e-02 3.25005248e-03 2.36976543e-02\n",
      " 4.97689497e-03 6.44952234e-04 5.69575140e-04 4.30270443e-04\n",
      " 1.62854058e-03 3.22406053e-03 2.18971651e-02 2.94661367e-03\n",
      " 1.13280472e-03 1.10816074e-03 8.53510935e-04]\n",
      "pi.importances=[[ 1.14268294e+00  1.02710328e+00  1.17932914e+00  1.27096717e+00\n",
      "   1.05767836e+00]\n",
      " [ 3.97400159e+00  3.84520032e+00  4.25572820e+00  4.80352088e+00\n",
      "   4.15722666e+00]\n",
      " [ 3.41726857e-01  3.60733703e-01  3.98917248e-01  3.48491333e-01\n",
      "   3.61093212e-01]\n",
      " [-2.21298791e-05  2.41097466e-04 -1.56667058e-04  1.70333146e-04\n",
      "  -2.32164068e-04]\n",
      " [ 7.36475255e-03  6.63784480e-03  9.77584231e-03  9.38159925e-03\n",
      "   7.00255779e-03]\n",
      " [ 4.83093007e-01  5.01752852e-01  4.95365429e-01  4.97466829e-01\n",
      "   4.41581026e-01]\n",
      " [ 1.07208255e-02  1.28279302e-02  7.98484966e-03  1.78084695e-02\n",
      "   1.11720159e-02]\n",
      " [ 3.89288598e-01  3.27658880e-01  3.87165400e-01  3.88447192e-01\n",
      "   3.65429416e-01]\n",
      " [ 5.04175818e-02  6.22765996e-02  6.12472629e-02  6.50344563e-02\n",
      "   6.02471552e-02]\n",
      " [ 1.63232113e-03  1.23032706e-03  1.06501395e-04  1.77433793e-03\n",
      "   5.08384995e-04]\n",
      " [-2.01011139e-04  5.08278800e-04 -2.88088172e-04  1.25698035e-03\n",
      "   6.09466299e-04]\n",
      " [ 3.16040840e-04  9.10222141e-04  7.94885988e-04 -5.52363816e-05\n",
      "  -1.49405419e-04]\n",
      " [ 3.69776518e-03  2.58758308e-03  4.96274350e-03  2.47756972e-04\n",
      "   1.62892373e-03]\n",
      " [ 7.82299043e-02  8.72738435e-02  8.49407530e-02  8.54473165e-02\n",
      "   8.14769674e-02]\n",
      " [ 1.75038927e-01  1.66629353e-01  1.97360066e-01  1.33626927e-01\n",
      "   1.48715498e-01]\n",
      " [ 1.00891863e-02  7.54998705e-03  1.15535687e-02  2.89546834e-03\n",
      "   8.47385524e-03]\n",
      " [ 7.50916654e-03  8.26106554e-03  8.01082680e-03  5.07429724e-03\n",
      "   7.36997373e-03]\n",
      " [ 4.45963496e-03  6.92528199e-03  5.52103293e-03  7.39167341e-03\n",
      "   7.05369800e-03]\n",
      " [ 1.76187029e-03  1.36471916e-03  1.90621534e-03 -4.59618899e-04\n",
      "   8.70899444e-04]]\n"
     ]
    },
    {
     "data": {
      "image/png": "[encoded data removed]",
      "text/plain": [
       "<Figure size 640x480 with 1 Axes>"
      ]
     },
     "metadata": {},
     "output_type": "display_data"
    }
   ],
   "source": [
    "\n",
    "X_feat_importance = val_df[features]\n",
    "y_feat_importance = val_df['on_base_plus_slg']\n",
    "model = linear_model.LinearRegression()\n",
    "model.fit(X_feat_importance, y_feat_importance)\n",
    "pi = permutation_importance(estimator=model, X=X_feat_importance, y=y_feat_importance, random_state=0)\n",
    "print(f'pi.importances_mean={pi.importances_mean}')\n",
    "print(f'pi.importances_std={pi.importances_std}')\n",
    "print(f'pi.importances={pi.importances}')\n",
    "plt.bar(x=range(X_feat_importance.columns.size), height=pi.importances_mean, tick_label=X_feat_importance.columns)\n",
    "plt.title('Feature importance for LinearRegression, on_base_plus_slg vs. rest of MLB')\n",
    "plt.xlabel('feature name')\n",
    "plt.xticks(rotation=45)\n",
    "_ = plt.ylabel(r'reduction in $R^2$ on shuffling feature')"
   ]
  },
  {
   "cell_type": "code",
   "execution_count": 184,
   "id": "003f59b6-acd3-448c-9d5c-0f8695efb71f",
   "metadata": {},
   "outputs": [
    {
     "data": {
      "text/plain": [
       "0.7736870947931506"
      ]
     },
     "execution_count": 184,
     "metadata": {},
     "output_type": "execute_result"
    }
   ],
   "source": [
    "###ONLY CONSIDERING PA , HITS, k_percent \n",
    "\n",
    "X_train = train_df[['pa','hit','home_run','bb_percent']]\n",
    "y_train = train_df['on_base_plus_slg']\n",
    "model = linear_model.LinearRegression()\n",
    "model.fit(X_train,y_train)\n",
    "model.score(X_train,y_train)"
   ]
  },
  {
   "cell_type": "code",
   "execution_count": 185,
   "id": "565da2c1-27de-4361-b67d-d81ca72419a7",
   "metadata": {},
   "outputs": [
    {
     "name": "stdout",
     "output_type": "stream",
     "text": [
      "MAE_val: 0.025832\n",
      "RMSE_val: 0.032745\n"
     ]
    }
   ],
   "source": [
    "X_val = val_df[['pa','hit','home_run','bb_percent']]\n",
    "y_val = val_df['on_base_plus_slg']\n",
    "validation_predictions = model.predict(X_val)\n",
    "MAE_val = mean_absolute_error(y_val,validation_predictions)\n",
    "MSE_val = mean_squared_error(y_val,validation_predictions)\n",
    "RMSE_val = np.sqrt(MSE_val)\n",
    "\n",
    "print(\"MAE_val: %f\" % (MAE_val))\n",
    "print(\"RMSE_val: %f\" % (RMSE_val))"
   ]
  },
  {
   "cell_type": "code",
   "execution_count": 186,
   "id": "0e902b18-ddfb-4938-9ecd-b2a947cab0a1",
   "metadata": {},
   "outputs": [
    {
     "data": {
      "text/plain": [
       "0.5852369353638134"
      ]
     },
     "execution_count": 186,
     "metadata": {},
     "output_type": "execute_result"
    }
   ],
   "source": [
    "X_train = train_df[['pa','hit','k_percent','home_run']]\n",
    "y_train = train_df['on_base_plus_slg']\n",
    "model = linear_model.LinearRegression()\n",
    "model.fit(X_train,y_train)\n",
    "model.score(X_train,y_train)"
   ]
  },
  {
   "cell_type": "code",
   "execution_count": 187,
   "id": "bcc664d3-012d-4c69-b32e-3ceb90ea4f17",
   "metadata": {},
   "outputs": [
    {
     "name": "stdout",
     "output_type": "stream",
     "text": [
      "MAE_val: 0.034610\n",
      "RMSE_val: 0.041996\n"
     ]
    }
   ],
   "source": [
    "X_val = val_df[['pa','hit','k_percent','home_run']]\n",
    "y_val = val_df['on_base_plus_slg']\n",
    "validation_predictions = model.predict(X_val)\n",
    "MAE_val = mean_absolute_error(y_val,validation_predictions)\n",
    "MSE_val = mean_squared_error(y_val,validation_predictions)\n",
    "RMSE_val = np.sqrt(MSE_val)\n",
    "\n",
    "print(\"MAE_val: %f\" % (MAE_val))\n",
    "print(\"RMSE_val: %f\" % (RMSE_val))"
   ]
  },
  {
   "cell_type": "code",
   "execution_count": 189,
   "id": "4626c65d-d3e5-49fa-8ea4-f83e4b029968",
   "metadata": {},
   "outputs": [
    {
     "data": {
      "text/plain": [
       "0.3868700964842231"
      ]
     },
     "execution_count": 189,
     "metadata": {},
     "output_type": "execute_result"
    }
   ],
   "source": [
    "X_train = train_df[['single','double','triple','home_run','bb_percent','k_percent']]\n",
    "y_train = train_df['on_base_plus_slg']\n",
    "model = linear_model.LinearRegression()\n",
    "model.fit(X_train,y_train)\n",
    "model.score(X_train,y_train)"
   ]
  },
  {
   "cell_type": "code",
   "execution_count": 50,
   "id": "920ba6e7-dc03-4375-a8be-bd550918baba",
   "metadata": {},
   "outputs": [
    {
     "name": "stdout",
     "output_type": "stream",
     "text": [
      "MAE_val: 0.059036\n",
      "RMSE_val: 0.071730\n"
     ]
    }
   ],
   "source": [
    "X_val = val_df[['single','double','triple','home_run','bb_percent','k_percent']]\n",
    "y_val = val_df['on_base_plus_slg']\n",
    "validation_predictions = model.predict(X_val)\n",
    "MAE_val = mean_absolute_error(y_val,validation_predictions)\n",
    "MSE_val = mean_squared_error(y_val,validation_predictions)\n",
    "RMSE_val = np.sqrt(MSE_val)\n",
    "\n",
    "print(\"MAE_val: %f\" % (MAE_val))\n",
    "print(\"RMSE_val: %f\" % (RMSE_val))"
   ]
  },
  {
   "cell_type": "code",
   "execution_count": 191,
   "id": "4c7db7ba-548b-42e2-a565-6065991ef1d3",
   "metadata": {},
   "outputs": [],
   "source": [
    "###TEST LINEAR REGRESSION\n",
    "X_test = test_df[features]\n",
    "y_test = test_df['on_base_plus_slg']\n",
    "\n",
    "#y_hat = model.predict()\n"
   ]
  },
  {
   "cell_type": "code",
   "execution_count": 192,
   "id": "f2a27778-e50f-46e9-914b-ed3a4a7cc15e",
   "metadata": {},
   "outputs": [
    {
     "name": "stdout",
     "output_type": "stream",
     "text": [
      "The predicted obps is 0.74 and the actual obps is 0.71.\n"
     ]
    }
   ],
   "source": [
    "\n",
    "####Fun test to see how correctly we can predict a single players obps \n",
    "####Chosen player is Kwan, Steven\n",
    "\n",
    "\n",
    "\n",
    "\n",
    "row_data = raw_df.iloc[529].to_frame().T\n",
    "fun = pd.DataFrame(row_data)\n",
    "\n",
    "features = ['single','double','triple','home_run','bb_percent','k_percent','on_base_plus_slg']\n",
    "fun = fun[features]\n",
    "fun_numeric = fun.apply(pd.to_numeric)\n",
    "\n",
    "\n",
    "\n",
    "xfeatures = ['single','double','triple','home_run','bb_percent','k_percent']\n",
    "\n",
    "\n",
    "\n",
    "X_fun = fun_numeric[xfeatures]\n",
    "\n",
    "\n",
    "\n",
    "prediction = model.predict(X_fun)\n",
    "predicted_obps = prediction[0] \n",
    "\n",
    "\n",
    "actual_obps = fun_numeric['on_base_plus_slg'].iloc[0]\n",
    "\n",
    "print(f'The predicted obps is {predicted_obps:.3} and the actual obps is {actual_obps}.')"
   ]
  },
  {
   "cell_type": "code",
   "execution_count": null,
   "id": "60017bc8-7ed9-4685-8ff4-d5f87825ae6a",
   "metadata": {},
   "outputs": [],
   "source": [
    "###CREATE PLOTS "
   ]
  },
  {
   "cell_type": "markdown",
   "id": "01e07d70-b304-44ca-885b-6303b0574511",
   "metadata": {},
   "source": [
    "CREATING A CLASSIFICATION PROBLEM \n",
    "BINNING OBPS \n",
    "An OPS scale\n",
    "\n",
    "According to https://en.wikipedia.org/wiki/On-base_plus_slugging\n",
    "\"Bill James, in his essay titled \"The 96 Families of Hitters\"[4] uses seven different categories for classification by OPS:\n",
    "\n",
    "| Category | Classification\t| OPS range       |\n",
    "|----------|----------------|-----------------|\n",
    "|A         |\tGreat\t    |.9000 and higher |\n",
    "|B         |\tVery good\t|.8334 to .8999   |\n",
    "|C         |Above average   |.7667 to .8333   |\n",
    "|D         |\tAverage\t    | .7000 to .7666  |\n",
    "|E         |Below average\t|.6334 to .6999   |\n",
    "|F         |\tPoor\t    |.5667 to .6333   |\n",
    "|G         |\tVery poor   |.5666 and lower  |\n",
    "\n",
    "\n",
    "\n",
    "\n",
    "I have created a scale such that we are classifying below, average and above average hitters based on their ops\n",
    "The categories for classification by OPS I have created: \n",
    "\n",
    "\n",
    "| Category | Classification\t| OPS range       |\n",
    "|----------|----------------|-----------------|\n",
    "|   1      |Above average   |.7667 and higher |\n",
    "|0         |\tAverage\t    | .7000 to .7666  |\n",
    "|-1        |Below average\t|.6999  and lower |\n"
   ]
  },
  {
   "cell_type": "code",
   "execution_count": 222,
   "id": "6e11ebbd-efd2-48d6-8573-344652404049",
   "metadata": {},
   "outputs": [
    {
     "name": "stdout",
     "output_type": "stream",
     "text": [
      "There are no missing values in the classification dataframe c_df\n",
      "There are no duplicated values in the classification dataframe c_df\n"
     ]
    }
   ],
   "source": [
    "#new dataset for classification\n",
    "c_df = df.copy()\n",
    "\n",
    "# Define the OPS ranges and corresponding classifications\n",
    "ops_ranges = {\n",
    "    1: (0.7667, float('inf')),\n",
    "    0: (0.7000, 0.7666),\n",
    "    -1: (-float('inf'), 0.6999)\n",
    "}\n",
    "\n",
    "# Create an empty list to store the classifications\n",
    "classifications = []\n",
    "\n",
    "# Iterate over each OPS value in your dataset\n",
    "for ops_value in c_df['on_base_plus_slg']:\n",
    "    # Iterate over each classification and its corresponding OPS range\n",
    "    for classification, (lower_bound, upper_bound) in ops_ranges.items():\n",
    "        # Check if the OPS value falls within the current classification's range\n",
    "        if lower_bound <= ops_value < upper_bound:\n",
    "            # If it does, append the classification to the list\n",
    "            classifications.append(classification)\n",
    "            # Break out of the inner loop since we found the correct classification\n",
    "            break\n",
    "    else:\n",
    "        # If the OPS value didn't fall within any range, append a default value\n",
    "        classifications.append('Unknown')\n",
    "\n",
    "# Add the classifications to your dataset as a new column\n",
    "c_df['Classification'] = classifications\n",
    "\n",
    "\n",
    "\n",
    "#double checking that there are no missing or duplicated values for saftey \n",
    "\n",
    "if c_df.isna().any().any():\n",
    "    print(\"There are missing values in the classification dataframe c_df.\")\n",
    "else:\n",
    "    print(\"There are no missing values in the classification dataframe c_df\")\n",
    "\n",
    "if c_df.duplicated().any().any():\n",
    "    print(\"There are duplicated values in the classification dataframe c_df.\")\n",
    "else:\n",
    "    print(\"There are no duplicated values in the classification dataframe c_df\")\n"
   ]
  },
  {
   "cell_type": "code",
   "execution_count": 224,
   "id": "a6ae763b-ff21-4841-9f50-dab284ac7fdf",
   "metadata": {},
   "outputs": [],
   "source": [
    "#creating new train,val,test datasets based on the same methodology as above \n",
    "c_train_df = c_df[(c_df['year'] == 2021) | (c_df['year'] == 2020)]\n",
    "c_val_df = c_df[c_df.year==2022]\n",
    "c_test_df = c_df[c_df.year==2023]"
   ]
  }
 ],
 "metadata": {
  "kernelspec": {
   "display_name": "Python 3 (ipykernel)",
   "language": "python",
   "name": "python3"
  },
  "language_info": {
   "codemirror_mode": {
    "name": "ipython",
    "version": 3
   },
   "file_extension": ".py",
   "mimetype": "text/x-python",
   "name": "python",
   "nbconvert_exporter": "python",
   "pygments_lexer": "ipython3",
   "version": "3.11.5"
  }
 },
 "nbformat": 4,
 "nbformat_minor": 5
}
